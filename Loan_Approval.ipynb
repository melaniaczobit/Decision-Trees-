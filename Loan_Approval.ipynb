{
  "nbformat": 4,
  "nbformat_minor": 0,
  "metadata": {
    "colab": {
      "name": "Loan Approval.ipynb",
      "provenance": [],
      "collapsed_sections": [],
      "authorship_tag": "ABX9TyN8l/AAqlEa9h/jyitc41Hb"
    },
    "kernelspec": {
      "name": "python3",
      "display_name": "Python 3"
    }
  },
  "cells": [
    {
      "cell_type": "code",
      "metadata": {
        "id": "0I5jTm1ONqX2"
      },
      "source": [
        "import sys\n",
        "!{sys.executable} -m pip install -U pandas-profiling[notebook]\n",
        "!jupyter nbextension enable --py widgetsnbextension\n",
        "!pip install matplotlib\n",
        "!pip install graphviz"
      ],
      "execution_count": null,
      "outputs": []
    },
    {
      "cell_type": "markdown",
      "metadata": {
        "id": "thng_IgqBk9A"
      },
      "source": [
        "**Data Preparation**"
      ]
    },
    {
      "cell_type": "code",
      "metadata": {
        "id": "ecwPCYoSPXoU",
        "colab": {
          "resources": {
            "http://localhost:8080/nbextensions/google.colab/files.js": {
              "data": "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",
              "ok": true,
              "headers": [
                [
                  "content-type",
                  "application/javascript"
                ]
              ],
              "status": 200,
              "status_text": ""
            }
          },
          "base_uri": "https://localhost:8080/",
          "height": 73
        },
        "outputId": "4c28dac7-09e7-4bfa-ec92-c587eecfcb09"
      },
      "source": [
        "from google.colab import files\n",
        "uploaded = files.upload()"
      ],
      "execution_count": null,
      "outputs": [
        {
          "output_type": "display_data",
          "data": {
            "text/html": [
              "\n",
              "     <input type=\"file\" id=\"files-32769ab2-fdae-4324-91eb-01b14a9f1926\" name=\"files[]\" multiple disabled\n",
              "        style=\"border:none\" />\n",
              "     <output id=\"result-32769ab2-fdae-4324-91eb-01b14a9f1926\">\n",
              "      Upload widget is only available when the cell has been executed in the\n",
              "      current browser session. Please rerun this cell to enable.\n",
              "      </output>\n",
              "      <script src=\"/nbextensions/google.colab/files.js\"></script> "
            ],
            "text/plain": [
              "<IPython.core.display.HTML object>"
            ]
          },
          "metadata": {
            "tags": []
          }
        },
        {
          "output_type": "stream",
          "text": [
            "Saving german_credit.csv to german_credit.csv\n"
          ],
          "name": "stdout"
        }
      ]
    },
    {
      "cell_type": "code",
      "metadata": {
        "id": "NiGXV4QBPcG-"
      },
      "source": [
        "import pandas as pd\n",
        "import numpy as np"
      ],
      "execution_count": null,
      "outputs": []
    },
    {
      "cell_type": "code",
      "metadata": {
        "id": "PkIOhGIrP8SR",
        "colab": {
          "base_uri": "https://localhost:8080/",
          "height": 281
        },
        "outputId": "b90aee1b-0e68-4df5-ca09-bb8de8298486"
      },
      "source": [
        "import io\n",
        "df = pd.read_csv(io.BytesIO(uploaded['german_credit.csv']))\n",
        "df.head(5)"
      ],
      "execution_count": null,
      "outputs": [
        {
          "output_type": "execute_result",
          "data": {
            "text/html": [
              "<div>\n",
              "<style scoped>\n",
              "    .dataframe tbody tr th:only-of-type {\n",
              "        vertical-align: middle;\n",
              "    }\n",
              "\n",
              "    .dataframe tbody tr th {\n",
              "        vertical-align: top;\n",
              "    }\n",
              "\n",
              "    .dataframe thead th {\n",
              "        text-align: right;\n",
              "    }\n",
              "</style>\n",
              "<table border=\"1\" class=\"dataframe\">\n",
              "  <thead>\n",
              "    <tr style=\"text-align: right;\">\n",
              "      <th></th>\n",
              "      <th>Creditability</th>\n",
              "      <th>Account Balance</th>\n",
              "      <th>Duration of Credit (month)</th>\n",
              "      <th>Payment Status of Previous Credit</th>\n",
              "      <th>Purpose</th>\n",
              "      <th>Credit Amount</th>\n",
              "      <th>Value Savings/Stocks</th>\n",
              "      <th>Length of current employment</th>\n",
              "      <th>Instalment per cent</th>\n",
              "      <th>Sex &amp; Marital Status</th>\n",
              "      <th>Guarantors</th>\n",
              "      <th>Duration in Current address</th>\n",
              "      <th>Most valuable available asset</th>\n",
              "      <th>Age (years)</th>\n",
              "      <th>Concurrent Credits</th>\n",
              "      <th>Type of apartment</th>\n",
              "      <th>No of Credits at this Bank</th>\n",
              "      <th>Occupation</th>\n",
              "      <th>No of dependents</th>\n",
              "      <th>Telephone</th>\n",
              "      <th>Foreign Worker</th>\n",
              "    </tr>\n",
              "  </thead>\n",
              "  <tbody>\n",
              "    <tr>\n",
              "      <th>0</th>\n",
              "      <td>1</td>\n",
              "      <td>1</td>\n",
              "      <td>18</td>\n",
              "      <td>4</td>\n",
              "      <td>2</td>\n",
              "      <td>1049</td>\n",
              "      <td>1</td>\n",
              "      <td>2</td>\n",
              "      <td>4</td>\n",
              "      <td>2</td>\n",
              "      <td>1</td>\n",
              "      <td>4</td>\n",
              "      <td>2</td>\n",
              "      <td>21</td>\n",
              "      <td>3</td>\n",
              "      <td>1</td>\n",
              "      <td>1</td>\n",
              "      <td>3</td>\n",
              "      <td>1</td>\n",
              "      <td>1</td>\n",
              "      <td>1</td>\n",
              "    </tr>\n",
              "    <tr>\n",
              "      <th>1</th>\n",
              "      <td>1</td>\n",
              "      <td>1</td>\n",
              "      <td>9</td>\n",
              "      <td>4</td>\n",
              "      <td>0</td>\n",
              "      <td>2799</td>\n",
              "      <td>1</td>\n",
              "      <td>3</td>\n",
              "      <td>2</td>\n",
              "      <td>3</td>\n",
              "      <td>1</td>\n",
              "      <td>2</td>\n",
              "      <td>1</td>\n",
              "      <td>36</td>\n",
              "      <td>3</td>\n",
              "      <td>1</td>\n",
              "      <td>2</td>\n",
              "      <td>3</td>\n",
              "      <td>2</td>\n",
              "      <td>1</td>\n",
              "      <td>1</td>\n",
              "    </tr>\n",
              "    <tr>\n",
              "      <th>2</th>\n",
              "      <td>1</td>\n",
              "      <td>2</td>\n",
              "      <td>12</td>\n",
              "      <td>2</td>\n",
              "      <td>9</td>\n",
              "      <td>841</td>\n",
              "      <td>2</td>\n",
              "      <td>4</td>\n",
              "      <td>2</td>\n",
              "      <td>2</td>\n",
              "      <td>1</td>\n",
              "      <td>4</td>\n",
              "      <td>1</td>\n",
              "      <td>23</td>\n",
              "      <td>3</td>\n",
              "      <td>1</td>\n",
              "      <td>1</td>\n",
              "      <td>2</td>\n",
              "      <td>1</td>\n",
              "      <td>1</td>\n",
              "      <td>1</td>\n",
              "    </tr>\n",
              "    <tr>\n",
              "      <th>3</th>\n",
              "      <td>1</td>\n",
              "      <td>1</td>\n",
              "      <td>12</td>\n",
              "      <td>4</td>\n",
              "      <td>0</td>\n",
              "      <td>2122</td>\n",
              "      <td>1</td>\n",
              "      <td>3</td>\n",
              "      <td>3</td>\n",
              "      <td>3</td>\n",
              "      <td>1</td>\n",
              "      <td>2</td>\n",
              "      <td>1</td>\n",
              "      <td>39</td>\n",
              "      <td>3</td>\n",
              "      <td>1</td>\n",
              "      <td>2</td>\n",
              "      <td>2</td>\n",
              "      <td>2</td>\n",
              "      <td>1</td>\n",
              "      <td>2</td>\n",
              "    </tr>\n",
              "    <tr>\n",
              "      <th>4</th>\n",
              "      <td>1</td>\n",
              "      <td>1</td>\n",
              "      <td>12</td>\n",
              "      <td>4</td>\n",
              "      <td>0</td>\n",
              "      <td>2171</td>\n",
              "      <td>1</td>\n",
              "      <td>3</td>\n",
              "      <td>4</td>\n",
              "      <td>3</td>\n",
              "      <td>1</td>\n",
              "      <td>4</td>\n",
              "      <td>2</td>\n",
              "      <td>38</td>\n",
              "      <td>1</td>\n",
              "      <td>2</td>\n",
              "      <td>2</td>\n",
              "      <td>2</td>\n",
              "      <td>1</td>\n",
              "      <td>1</td>\n",
              "      <td>2</td>\n",
              "    </tr>\n",
              "  </tbody>\n",
              "</table>\n",
              "</div>"
            ],
            "text/plain": [
              "   Creditability  Account Balance  ...  Telephone  Foreign Worker\n",
              "0              1                1  ...          1               1\n",
              "1              1                1  ...          1               1\n",
              "2              1                2  ...          1               1\n",
              "3              1                1  ...          1               2\n",
              "4              1                1  ...          1               2\n",
              "\n",
              "[5 rows x 21 columns]"
            ]
          },
          "metadata": {
            "tags": []
          },
          "execution_count": 7
        }
      ]
    },
    {
      "cell_type": "code",
      "metadata": {
        "id": "hzJra0J9Q2Mc",
        "colab": {
          "base_uri": "https://localhost:8080/",
          "height": 352
        },
        "outputId": "5e1787b4-28ec-41dc-8eea-be7ed2a2d6b0"
      },
      "source": [
        "df.describe()"
      ],
      "execution_count": null,
      "outputs": [
        {
          "output_type": "execute_result",
          "data": {
            "text/html": [
              "<div>\n",
              "<style scoped>\n",
              "    .dataframe tbody tr th:only-of-type {\n",
              "        vertical-align: middle;\n",
              "    }\n",
              "\n",
              "    .dataframe tbody tr th {\n",
              "        vertical-align: top;\n",
              "    }\n",
              "\n",
              "    .dataframe thead th {\n",
              "        text-align: right;\n",
              "    }\n",
              "</style>\n",
              "<table border=\"1\" class=\"dataframe\">\n",
              "  <thead>\n",
              "    <tr style=\"text-align: right;\">\n",
              "      <th></th>\n",
              "      <th>Creditability</th>\n",
              "      <th>Account Balance</th>\n",
              "      <th>Duration of Credit (month)</th>\n",
              "      <th>Payment Status of Previous Credit</th>\n",
              "      <th>Purpose</th>\n",
              "      <th>Credit Amount</th>\n",
              "      <th>Value Savings/Stocks</th>\n",
              "      <th>Length of current employment</th>\n",
              "      <th>Instalment per cent</th>\n",
              "      <th>Sex &amp; Marital Status</th>\n",
              "      <th>Guarantors</th>\n",
              "      <th>Duration in Current address</th>\n",
              "      <th>Most valuable available asset</th>\n",
              "      <th>Age (years)</th>\n",
              "      <th>Concurrent Credits</th>\n",
              "      <th>Type of apartment</th>\n",
              "      <th>No of Credits at this Bank</th>\n",
              "      <th>Occupation</th>\n",
              "      <th>No of dependents</th>\n",
              "      <th>Telephone</th>\n",
              "      <th>Foreign Worker</th>\n",
              "    </tr>\n",
              "  </thead>\n",
              "  <tbody>\n",
              "    <tr>\n",
              "      <th>count</th>\n",
              "      <td>1000.000000</td>\n",
              "      <td>1000.000000</td>\n",
              "      <td>1000.000000</td>\n",
              "      <td>1000.00000</td>\n",
              "      <td>1000.000000</td>\n",
              "      <td>1000.00000</td>\n",
              "      <td>1000.000000</td>\n",
              "      <td>1000.000000</td>\n",
              "      <td>1000.000000</td>\n",
              "      <td>1000.00000</td>\n",
              "      <td>1000.000000</td>\n",
              "      <td>1000.000000</td>\n",
              "      <td>1000.000000</td>\n",
              "      <td>1000.00000</td>\n",
              "      <td>1000.000000</td>\n",
              "      <td>1000.000000</td>\n",
              "      <td>1000.000000</td>\n",
              "      <td>1000.000000</td>\n",
              "      <td>1000.000000</td>\n",
              "      <td>1000.000000</td>\n",
              "      <td>1000.000000</td>\n",
              "    </tr>\n",
              "    <tr>\n",
              "      <th>mean</th>\n",
              "      <td>0.700000</td>\n",
              "      <td>2.577000</td>\n",
              "      <td>20.903000</td>\n",
              "      <td>2.54500</td>\n",
              "      <td>2.828000</td>\n",
              "      <td>3271.24800</td>\n",
              "      <td>2.105000</td>\n",
              "      <td>3.384000</td>\n",
              "      <td>2.973000</td>\n",
              "      <td>2.68200</td>\n",
              "      <td>1.145000</td>\n",
              "      <td>2.845000</td>\n",
              "      <td>2.358000</td>\n",
              "      <td>35.54200</td>\n",
              "      <td>2.675000</td>\n",
              "      <td>1.928000</td>\n",
              "      <td>1.407000</td>\n",
              "      <td>2.904000</td>\n",
              "      <td>1.155000</td>\n",
              "      <td>1.404000</td>\n",
              "      <td>1.037000</td>\n",
              "    </tr>\n",
              "    <tr>\n",
              "      <th>std</th>\n",
              "      <td>0.458487</td>\n",
              "      <td>1.257638</td>\n",
              "      <td>12.058814</td>\n",
              "      <td>1.08312</td>\n",
              "      <td>2.744439</td>\n",
              "      <td>2822.75176</td>\n",
              "      <td>1.580023</td>\n",
              "      <td>1.208306</td>\n",
              "      <td>1.118715</td>\n",
              "      <td>0.70808</td>\n",
              "      <td>0.477706</td>\n",
              "      <td>1.103718</td>\n",
              "      <td>1.050209</td>\n",
              "      <td>11.35267</td>\n",
              "      <td>0.705601</td>\n",
              "      <td>0.530186</td>\n",
              "      <td>0.577654</td>\n",
              "      <td>0.653614</td>\n",
              "      <td>0.362086</td>\n",
              "      <td>0.490943</td>\n",
              "      <td>0.188856</td>\n",
              "    </tr>\n",
              "    <tr>\n",
              "      <th>min</th>\n",
              "      <td>0.000000</td>\n",
              "      <td>1.000000</td>\n",
              "      <td>4.000000</td>\n",
              "      <td>0.00000</td>\n",
              "      <td>0.000000</td>\n",
              "      <td>250.00000</td>\n",
              "      <td>1.000000</td>\n",
              "      <td>1.000000</td>\n",
              "      <td>1.000000</td>\n",
              "      <td>1.00000</td>\n",
              "      <td>1.000000</td>\n",
              "      <td>1.000000</td>\n",
              "      <td>1.000000</td>\n",
              "      <td>19.00000</td>\n",
              "      <td>1.000000</td>\n",
              "      <td>1.000000</td>\n",
              "      <td>1.000000</td>\n",
              "      <td>1.000000</td>\n",
              "      <td>1.000000</td>\n",
              "      <td>1.000000</td>\n",
              "      <td>1.000000</td>\n",
              "    </tr>\n",
              "    <tr>\n",
              "      <th>25%</th>\n",
              "      <td>0.000000</td>\n",
              "      <td>1.000000</td>\n",
              "      <td>12.000000</td>\n",
              "      <td>2.00000</td>\n",
              "      <td>1.000000</td>\n",
              "      <td>1365.50000</td>\n",
              "      <td>1.000000</td>\n",
              "      <td>3.000000</td>\n",
              "      <td>2.000000</td>\n",
              "      <td>2.00000</td>\n",
              "      <td>1.000000</td>\n",
              "      <td>2.000000</td>\n",
              "      <td>1.000000</td>\n",
              "      <td>27.00000</td>\n",
              "      <td>3.000000</td>\n",
              "      <td>2.000000</td>\n",
              "      <td>1.000000</td>\n",
              "      <td>3.000000</td>\n",
              "      <td>1.000000</td>\n",
              "      <td>1.000000</td>\n",
              "      <td>1.000000</td>\n",
              "    </tr>\n",
              "    <tr>\n",
              "      <th>50%</th>\n",
              "      <td>1.000000</td>\n",
              "      <td>2.000000</td>\n",
              "      <td>18.000000</td>\n",
              "      <td>2.00000</td>\n",
              "      <td>2.000000</td>\n",
              "      <td>2319.50000</td>\n",
              "      <td>1.000000</td>\n",
              "      <td>3.000000</td>\n",
              "      <td>3.000000</td>\n",
              "      <td>3.00000</td>\n",
              "      <td>1.000000</td>\n",
              "      <td>3.000000</td>\n",
              "      <td>2.000000</td>\n",
              "      <td>33.00000</td>\n",
              "      <td>3.000000</td>\n",
              "      <td>2.000000</td>\n",
              "      <td>1.000000</td>\n",
              "      <td>3.000000</td>\n",
              "      <td>1.000000</td>\n",
              "      <td>1.000000</td>\n",
              "      <td>1.000000</td>\n",
              "    </tr>\n",
              "    <tr>\n",
              "      <th>75%</th>\n",
              "      <td>1.000000</td>\n",
              "      <td>4.000000</td>\n",
              "      <td>24.000000</td>\n",
              "      <td>4.00000</td>\n",
              "      <td>3.000000</td>\n",
              "      <td>3972.25000</td>\n",
              "      <td>3.000000</td>\n",
              "      <td>5.000000</td>\n",
              "      <td>4.000000</td>\n",
              "      <td>3.00000</td>\n",
              "      <td>1.000000</td>\n",
              "      <td>4.000000</td>\n",
              "      <td>3.000000</td>\n",
              "      <td>42.00000</td>\n",
              "      <td>3.000000</td>\n",
              "      <td>2.000000</td>\n",
              "      <td>2.000000</td>\n",
              "      <td>3.000000</td>\n",
              "      <td>1.000000</td>\n",
              "      <td>2.000000</td>\n",
              "      <td>1.000000</td>\n",
              "    </tr>\n",
              "    <tr>\n",
              "      <th>max</th>\n",
              "      <td>1.000000</td>\n",
              "      <td>4.000000</td>\n",
              "      <td>72.000000</td>\n",
              "      <td>4.00000</td>\n",
              "      <td>10.000000</td>\n",
              "      <td>18424.00000</td>\n",
              "      <td>5.000000</td>\n",
              "      <td>5.000000</td>\n",
              "      <td>4.000000</td>\n",
              "      <td>4.00000</td>\n",
              "      <td>3.000000</td>\n",
              "      <td>4.000000</td>\n",
              "      <td>4.000000</td>\n",
              "      <td>75.00000</td>\n",
              "      <td>3.000000</td>\n",
              "      <td>3.000000</td>\n",
              "      <td>4.000000</td>\n",
              "      <td>4.000000</td>\n",
              "      <td>2.000000</td>\n",
              "      <td>2.000000</td>\n",
              "      <td>2.000000</td>\n",
              "    </tr>\n",
              "  </tbody>\n",
              "</table>\n",
              "</div>"
            ],
            "text/plain": [
              "       Creditability  Account Balance  ...    Telephone  Foreign Worker\n",
              "count    1000.000000      1000.000000  ...  1000.000000     1000.000000\n",
              "mean        0.700000         2.577000  ...     1.404000        1.037000\n",
              "std         0.458487         1.257638  ...     0.490943        0.188856\n",
              "min         0.000000         1.000000  ...     1.000000        1.000000\n",
              "25%         0.000000         1.000000  ...     1.000000        1.000000\n",
              "50%         1.000000         2.000000  ...     1.000000        1.000000\n",
              "75%         1.000000         4.000000  ...     2.000000        1.000000\n",
              "max         1.000000         4.000000  ...     2.000000        2.000000\n",
              "\n",
              "[8 rows x 21 columns]"
            ]
          },
          "metadata": {
            "tags": []
          },
          "execution_count": 8
        }
      ]
    },
    {
      "cell_type": "code",
      "metadata": {
        "colab": {
          "base_uri": "https://localhost:8080/"
        },
        "id": "no1bZwjB9P0X",
        "outputId": "d578ef79-4138-40df-f0c2-0db771234327"
      },
      "source": [
        "print (df.isnull().values.any())"
      ],
      "execution_count": null,
      "outputs": [
        {
          "output_type": "stream",
          "text": [
            "False\n"
          ],
          "name": "stdout"
        }
      ]
    },
    {
      "cell_type": "code",
      "metadata": {
        "colab": {
          "base_uri": "https://localhost:8080/"
        },
        "id": "v6qrdmtXDBrV",
        "outputId": "d347d681-c118-4737-d57c-cecd0bca10d8"
      },
      "source": [
        "df.info()"
      ],
      "execution_count": null,
      "outputs": [
        {
          "output_type": "stream",
          "text": [
            "<class 'pandas.core.frame.DataFrame'>\n",
            "RangeIndex: 1000 entries, 0 to 999\n",
            "Data columns (total 21 columns):\n",
            " #   Column                             Non-Null Count  Dtype\n",
            "---  ------                             --------------  -----\n",
            " 0   Creditability                      1000 non-null   int64\n",
            " 1   Account Balance                    1000 non-null   int64\n",
            " 2   Duration of Credit (month)         1000 non-null   int64\n",
            " 3   Payment Status of Previous Credit  1000 non-null   int64\n",
            " 4   Purpose                            1000 non-null   int64\n",
            " 5   Credit Amount                      1000 non-null   int64\n",
            " 6   Value Savings/Stocks               1000 non-null   int64\n",
            " 7   Length of current employment       1000 non-null   int64\n",
            " 8   Instalment per cent                1000 non-null   int64\n",
            " 9   Sex & Marital Status               1000 non-null   int64\n",
            " 10  Guarantors                         1000 non-null   int64\n",
            " 11  Duration in Current address        1000 non-null   int64\n",
            " 12  Most valuable available asset      1000 non-null   int64\n",
            " 13  Age (years)                        1000 non-null   int64\n",
            " 14  Concurrent Credits                 1000 non-null   int64\n",
            " 15  Type of apartment                  1000 non-null   int64\n",
            " 16  No of Credits at this Bank         1000 non-null   int64\n",
            " 17  Occupation                         1000 non-null   int64\n",
            " 18  No of dependents                   1000 non-null   int64\n",
            " 19  Telephone                          1000 non-null   int64\n",
            " 20  Foreign Worker                     1000 non-null   int64\n",
            "dtypes: int64(21)\n",
            "memory usage: 164.2 KB\n"
          ],
          "name": "stdout"
        }
      ]
    },
    {
      "cell_type": "code",
      "metadata": {
        "id": "pft4QmknFU8x"
      },
      "source": [
        "from pandas.api.types import CategoricalDtype\n",
        "\n",
        "integer_cols = ['Duration of Credit (month)', 'Credit Amount', 'Instalment per cent','Age (years)','No of Credits at this Bank','No of dependents']\n",
        "for col in df.columns:\n",
        "    if col not in integer_cols:\n",
        "        df[col] = df[col].astype('category')"
      ],
      "execution_count": null,
      "outputs": []
    },
    {
      "cell_type": "code",
      "metadata": {
        "colab": {
          "base_uri": "https://localhost:8080/"
        },
        "id": "Y-aYgMc1Fbjq",
        "outputId": "7e5d8dcf-2585-4b37-a2c4-1587644b8234"
      },
      "source": [
        "df.dtypes"
      ],
      "execution_count": null,
      "outputs": [
        {
          "output_type": "execute_result",
          "data": {
            "text/plain": [
              "Creditability                        category\n",
              "Account Balance                      category\n",
              "Duration of Credit (month)              int64\n",
              "Payment Status of Previous Credit    category\n",
              "Purpose                              category\n",
              "Credit Amount                           int64\n",
              "Value Savings/Stocks                 category\n",
              "Length of current employment         category\n",
              "Instalment per cent                     int64\n",
              "Sex & Marital Status                 category\n",
              "Guarantors                           category\n",
              "Duration in Current address          category\n",
              "Most valuable available asset        category\n",
              "Age (years)                             int64\n",
              "Concurrent Credits                   category\n",
              "Type of apartment                    category\n",
              "No of Credits at this Bank              int64\n",
              "Occupation                           category\n",
              "No of dependents                        int64\n",
              "Telephone                            category\n",
              "Foreign Worker                       category\n",
              "dtype: object"
            ]
          },
          "metadata": {
            "tags": []
          },
          "execution_count": 10
        }
      ]
    },
    {
      "cell_type": "code",
      "metadata": {
        "colab": {
          "base_uri": "https://localhost:8080/",
          "height": 282
        },
        "id": "e9MZ_pyAFm9a",
        "outputId": "58d7b833-d98e-4d7b-c047-a60ed709c34d"
      },
      "source": [
        "df.describe()"
      ],
      "execution_count": null,
      "outputs": [
        {
          "output_type": "execute_result",
          "data": {
            "text/html": [
              "<div>\n",
              "<style scoped>\n",
              "    .dataframe tbody tr th:only-of-type {\n",
              "        vertical-align: middle;\n",
              "    }\n",
              "\n",
              "    .dataframe tbody tr th {\n",
              "        vertical-align: top;\n",
              "    }\n",
              "\n",
              "    .dataframe thead th {\n",
              "        text-align: right;\n",
              "    }\n",
              "</style>\n",
              "<table border=\"1\" class=\"dataframe\">\n",
              "  <thead>\n",
              "    <tr style=\"text-align: right;\">\n",
              "      <th></th>\n",
              "      <th>Duration of Credit (month)</th>\n",
              "      <th>Credit Amount</th>\n",
              "      <th>Instalment per cent</th>\n",
              "      <th>Age (years)</th>\n",
              "      <th>No of Credits at this Bank</th>\n",
              "      <th>No of dependents</th>\n",
              "    </tr>\n",
              "  </thead>\n",
              "  <tbody>\n",
              "    <tr>\n",
              "      <th>count</th>\n",
              "      <td>1000.000000</td>\n",
              "      <td>1000.00000</td>\n",
              "      <td>1000.000000</td>\n",
              "      <td>1000.00000</td>\n",
              "      <td>1000.000000</td>\n",
              "      <td>1000.000000</td>\n",
              "    </tr>\n",
              "    <tr>\n",
              "      <th>mean</th>\n",
              "      <td>20.903000</td>\n",
              "      <td>3271.24800</td>\n",
              "      <td>2.973000</td>\n",
              "      <td>35.54200</td>\n",
              "      <td>1.407000</td>\n",
              "      <td>1.155000</td>\n",
              "    </tr>\n",
              "    <tr>\n",
              "      <th>std</th>\n",
              "      <td>12.058814</td>\n",
              "      <td>2822.75176</td>\n",
              "      <td>1.118715</td>\n",
              "      <td>11.35267</td>\n",
              "      <td>0.577654</td>\n",
              "      <td>0.362086</td>\n",
              "    </tr>\n",
              "    <tr>\n",
              "      <th>min</th>\n",
              "      <td>4.000000</td>\n",
              "      <td>250.00000</td>\n",
              "      <td>1.000000</td>\n",
              "      <td>19.00000</td>\n",
              "      <td>1.000000</td>\n",
              "      <td>1.000000</td>\n",
              "    </tr>\n",
              "    <tr>\n",
              "      <th>25%</th>\n",
              "      <td>12.000000</td>\n",
              "      <td>1365.50000</td>\n",
              "      <td>2.000000</td>\n",
              "      <td>27.00000</td>\n",
              "      <td>1.000000</td>\n",
              "      <td>1.000000</td>\n",
              "    </tr>\n",
              "    <tr>\n",
              "      <th>50%</th>\n",
              "      <td>18.000000</td>\n",
              "      <td>2319.50000</td>\n",
              "      <td>3.000000</td>\n",
              "      <td>33.00000</td>\n",
              "      <td>1.000000</td>\n",
              "      <td>1.000000</td>\n",
              "    </tr>\n",
              "    <tr>\n",
              "      <th>75%</th>\n",
              "      <td>24.000000</td>\n",
              "      <td>3972.25000</td>\n",
              "      <td>4.000000</td>\n",
              "      <td>42.00000</td>\n",
              "      <td>2.000000</td>\n",
              "      <td>1.000000</td>\n",
              "    </tr>\n",
              "    <tr>\n",
              "      <th>max</th>\n",
              "      <td>72.000000</td>\n",
              "      <td>18424.00000</td>\n",
              "      <td>4.000000</td>\n",
              "      <td>75.00000</td>\n",
              "      <td>4.000000</td>\n",
              "      <td>2.000000</td>\n",
              "    </tr>\n",
              "  </tbody>\n",
              "</table>\n",
              "</div>"
            ],
            "text/plain": [
              "       Duration of Credit (month)  ...  No of dependents\n",
              "count                 1000.000000  ...       1000.000000\n",
              "mean                    20.903000  ...          1.155000\n",
              "std                     12.058814  ...          0.362086\n",
              "min                      4.000000  ...          1.000000\n",
              "25%                     12.000000  ...          1.000000\n",
              "50%                     18.000000  ...          1.000000\n",
              "75%                     24.000000  ...          1.000000\n",
              "max                     72.000000  ...          2.000000\n",
              "\n",
              "[8 rows x 6 columns]"
            ]
          },
          "metadata": {
            "tags": []
          },
          "execution_count": 89
        }
      ]
    },
    {
      "cell_type": "code",
      "metadata": {
        "colab": {
          "base_uri": "https://localhost:8080/"
        },
        "id": "Utxay87zW36C",
        "outputId": "fab66739-1522-4625-92be-e12572b0b407"
      },
      "source": [
        "df.info()"
      ],
      "execution_count": null,
      "outputs": [
        {
          "output_type": "stream",
          "text": [
            "<class 'pandas.core.frame.DataFrame'>\n",
            "RangeIndex: 1000 entries, 0 to 999\n",
            "Data columns (total 21 columns):\n",
            " #   Column                             Non-Null Count  Dtype   \n",
            "---  ------                             --------------  -----   \n",
            " 0   Creditability                      1000 non-null   category\n",
            " 1   Account Balance                    1000 non-null   category\n",
            " 2   Duration of Credit (month)         1000 non-null   int64   \n",
            " 3   Payment Status of Previous Credit  1000 non-null   category\n",
            " 4   Purpose                            1000 non-null   category\n",
            " 5   Credit Amount                      1000 non-null   int64   \n",
            " 6   Value Savings/Stocks               1000 non-null   category\n",
            " 7   Length of current employment       1000 non-null   category\n",
            " 8   Instalment per cent                1000 non-null   int64   \n",
            " 9   Sex & Marital Status               1000 non-null   category\n",
            " 10  Guarantors                         1000 non-null   category\n",
            " 11  Duration in Current address        1000 non-null   category\n",
            " 12  Most valuable available asset      1000 non-null   category\n",
            " 13  Age (years)                        1000 non-null   int64   \n",
            " 14  Concurrent Credits                 1000 non-null   category\n",
            " 15  Type of apartment                  1000 non-null   category\n",
            " 16  No of Credits at this Bank         1000 non-null   int64   \n",
            " 17  Occupation                         1000 non-null   category\n",
            " 18  No of dependents                   1000 non-null   int64   \n",
            " 19  Telephone                          1000 non-null   category\n",
            " 20  Foreign Worker                     1000 non-null   category\n",
            "dtypes: category(15), int64(6)\n",
            "memory usage: 64.1 KB\n"
          ],
          "name": "stdout"
        }
      ]
    },
    {
      "cell_type": "code",
      "metadata": {
        "id": "YY4MIMcoFVKy",
        "colab": {
          "base_uri": "https://localhost:8080/",
          "height": 410
        },
        "outputId": "cc073bec-8265-4f99-aa29-3da303b6def2"
      },
      "source": [
        "import seaborn as sns\n",
        "import pandas as pd\n",
        "import numpy as np\n",
        " \n",
        "corr_matrix=df.corr()\n",
        "sns.heatmap(corr_matrix, cmap='YlGnBu',annot=True)"
      ],
      "execution_count": null,
      "outputs": [
        {
          "output_type": "execute_result",
          "data": {
            "text/plain": [
              "<matplotlib.axes._subplots.AxesSubplot at 0x7fc1bd2c8160>"
            ]
          },
          "metadata": {
            "tags": []
          },
          "execution_count": 11
        },
        {
          "output_type": "display_data",
          "data": {
            "image/png": "[encoded data removed]",
            "text/plain": [
              "<Figure size 432x288 with 2 Axes>"
            ]
          },
          "metadata": {
            "tags": [],
            "needs_background": "light"
          }
        }
      ]
    },
    {
      "cell_type": "code",
      "metadata": {
        "id": "GIJm7IJ9VvFI"
      },
      "source": [
        "def removeOutlier(df, col, iMax=0.997, iMin=0.003):\n",
        "    for i in col:\n",
        "        var = str(i)\n",
        "\n",
        "        min_threshold = df[var].quantile(iMin)\n",
        "        max_threshold = df[var].quantile(iMax)\n",
        "\n",
        "        df = df[(df[var] > min_threshold)]\n",
        "        df = df[(df[var] < max_threshold)]\n",
        "\n",
        "    return(df)\n",
        "\n",
        "names = [\"Duration of Credit (month)\", \"Credit Amount\"]\n",
        "\n",
        "df = removeOutlier(df, names, iMax=0.997, iMin=0.003)\n"
      ],
      "execution_count": null,
      "outputs": []
    },
    {
      "cell_type": "code",
      "metadata": {
        "colab": {
          "base_uri": "https://localhost:8080/"
        },
        "id": "K67yJ_BG9Qj0",
        "outputId": "5f1955c8-dffc-4f6f-f270-a2e84a5d6dfc"
      },
      "source": [
        "df['Creditability'].value_counts()"
      ],
      "execution_count": null,
      "outputs": [
        {
          "output_type": "execute_result",
          "data": {
            "text/plain": [
              "1    683\n",
              "0    291\n",
              "Name: Creditability, dtype: int64"
            ]
          },
          "metadata": {
            "tags": []
          },
          "execution_count": 92
        }
      ]
    },
    {
      "cell_type": "code",
      "metadata": {
        "id": "OCKLWhSUBDnU"
      },
      "source": [
        "from sklearn.linear_model import LogisticRegression\n",
        "from sklearn.metrics import accuracy_score\n",
        "\n",
        "# Separate input features (X) and target variable (y)\n",
        "y = df.Creditability\n",
        "X = df.drop('Creditability', axis=1)\n",
        " \n",
        "# Train model\n",
        "clf_0 = LogisticRegression().fit(X, y)\n",
        " \n",
        "# Predict on training set\n",
        "pred_y_0 = clf_0.predict(X)\n",
        "\n",
        "print( accuracy_score(pred_y_0, y) )"
      ],
      "execution_count": null,
      "outputs": []
    },
    {
      "cell_type": "code",
      "metadata": {
        "colab": {
          "base_uri": "https://localhost:8080/"
        },
        "id": "XY0JUUUvBL8E",
        "outputId": "8629053a-43e9-4c4b-a9fd-cd1c6882380f"
      },
      "source": [
        "from sklearn.utils import resample\n",
        "\n",
        "df_majority = df[df.Creditability==1]\n",
        "df_minority = df[df.Creditability==0]\n",
        " \n",
        "# Upsample minority class\n",
        "df_minority_upsampled = resample(df_minority, \n",
        "                                 replace=True,     # sample with replacement\n",
        "                                 n_samples=683)   # to match majority class\n",
        " \n",
        "# Combine majority class with upsampled minority class\n",
        "df_upsampled = pd.concat([df_majority, df_minority_upsampled])\n",
        " \n",
        "# Display new class counts\n",
        "df_upsampled.Creditability.value_counts()"
      ],
      "execution_count": null,
      "outputs": [
        {
          "output_type": "execute_result",
          "data": {
            "text/plain": [
              "1    683\n",
              "0    683\n",
              "Name: Creditability, dtype: int64"
            ]
          },
          "metadata": {
            "tags": []
          },
          "execution_count": 93
        }
      ]
    },
    {
      "cell_type": "code",
      "metadata": {
        "colab": {
          "base_uri": "https://localhost:8080/",
          "height": 282
        },
        "id": "SrtEKKROBPmQ",
        "outputId": "70fb4b82-a6d9-4d05-9078-8de82110cd58"
      },
      "source": [
        "df_upsampled.describe()"
      ],
      "execution_count": null,
      "outputs": [
        {
          "output_type": "execute_result",
          "data": {
            "text/html": [
              "<div>\n",
              "<style scoped>\n",
              "    .dataframe tbody tr th:only-of-type {\n",
              "        vertical-align: middle;\n",
              "    }\n",
              "\n",
              "    .dataframe tbody tr th {\n",
              "        vertical-align: top;\n",
              "    }\n",
              "\n",
              "    .dataframe thead th {\n",
              "        text-align: right;\n",
              "    }\n",
              "</style>\n",
              "<table border=\"1\" class=\"dataframe\">\n",
              "  <thead>\n",
              "    <tr style=\"text-align: right;\">\n",
              "      <th></th>\n",
              "      <th>Duration of Credit (month)</th>\n",
              "      <th>Credit Amount</th>\n",
              "      <th>Instalment per cent</th>\n",
              "      <th>Age (years)</th>\n",
              "      <th>No of Credits at this Bank</th>\n",
              "      <th>No of dependents</th>\n",
              "    </tr>\n",
              "  </thead>\n",
              "  <tbody>\n",
              "    <tr>\n",
              "      <th>count</th>\n",
              "      <td>1366.000000</td>\n",
              "      <td>1366.000000</td>\n",
              "      <td>1366.000000</td>\n",
              "      <td>1366.000000</td>\n",
              "      <td>1366.000000</td>\n",
              "      <td>1366.000000</td>\n",
              "    </tr>\n",
              "    <tr>\n",
              "      <th>mean</th>\n",
              "      <td>21.137628</td>\n",
              "      <td>3329.016837</td>\n",
              "      <td>3.005857</td>\n",
              "      <td>35.083455</td>\n",
              "      <td>1.396047</td>\n",
              "      <td>1.155930</td>\n",
              "    </tr>\n",
              "    <tr>\n",
              "      <th>std</th>\n",
              "      <td>11.286483</td>\n",
              "      <td>2825.531298</td>\n",
              "      <td>1.124471</td>\n",
              "      <td>11.177374</td>\n",
              "      <td>0.563049</td>\n",
              "      <td>0.362922</td>\n",
              "    </tr>\n",
              "    <tr>\n",
              "      <th>min</th>\n",
              "      <td>5.000000</td>\n",
              "      <td>339.000000</td>\n",
              "      <td>1.000000</td>\n",
              "      <td>19.000000</td>\n",
              "      <td>1.000000</td>\n",
              "      <td>1.000000</td>\n",
              "    </tr>\n",
              "    <tr>\n",
              "      <th>25%</th>\n",
              "      <td>12.000000</td>\n",
              "      <td>1367.250000</td>\n",
              "      <td>2.000000</td>\n",
              "      <td>26.000000</td>\n",
              "      <td>1.000000</td>\n",
              "      <td>1.000000</td>\n",
              "    </tr>\n",
              "    <tr>\n",
              "      <th>50%</th>\n",
              "      <td>18.000000</td>\n",
              "      <td>2327.000000</td>\n",
              "      <td>3.000000</td>\n",
              "      <td>33.000000</td>\n",
              "      <td>1.000000</td>\n",
              "      <td>1.000000</td>\n",
              "    </tr>\n",
              "    <tr>\n",
              "      <th>75%</th>\n",
              "      <td>24.000000</td>\n",
              "      <td>4165.000000</td>\n",
              "      <td>4.000000</td>\n",
              "      <td>42.000000</td>\n",
              "      <td>2.000000</td>\n",
              "      <td>1.000000</td>\n",
              "    </tr>\n",
              "    <tr>\n",
              "      <th>max</th>\n",
              "      <td>54.000000</td>\n",
              "      <td>15672.000000</td>\n",
              "      <td>4.000000</td>\n",
              "      <td>75.000000</td>\n",
              "      <td>4.000000</td>\n",
              "      <td>2.000000</td>\n",
              "    </tr>\n",
              "  </tbody>\n",
              "</table>\n",
              "</div>"
            ],
            "text/plain": [
              "       Duration of Credit (month)  ...  No of dependents\n",
              "count                 1366.000000  ...       1366.000000\n",
              "mean                    21.137628  ...          1.155930\n",
              "std                     11.286483  ...          0.362922\n",
              "min                      5.000000  ...          1.000000\n",
              "25%                     12.000000  ...          1.000000\n",
              "50%                     18.000000  ...          1.000000\n",
              "75%                     24.000000  ...          1.000000\n",
              "max                     54.000000  ...          2.000000\n",
              "\n",
              "[8 rows x 6 columns]"
            ]
          },
          "metadata": {
            "tags": []
          },
          "execution_count": 94
        }
      ]
    },
    {
      "cell_type": "code",
      "metadata": {
        "colab": {
          "base_uri": "https://localhost:8080/"
        },
        "id": "a1hL9ejqBTVk",
        "outputId": "71bd5d39-5d37-4496-95e4-23a3e46772ed"
      },
      "source": [
        "import numpy as np\n",
        "from sklearn.linear_model import LogisticRegression\n",
        "from sklearn.metrics import accuracy_score\n",
        "\n",
        "y = df_upsampled.Creditability\n",
        "X = df_upsampled.drop('Creditability', axis=1)\n",
        " \n",
        "# Train model\n",
        "clf_1 = LogisticRegression().fit(X, y)\n",
        " \n",
        "# Predict on training set\n",
        "pred_y_1 = clf_1.predict(X)\n",
        " \n",
        "# Is our model still predicting just one class?\n",
        "print( np.unique( pred_y_1 ) )\n",
        "# [0 1]\n",
        " \n",
        "# How's our accuracy?\n",
        "print( accuracy_score(y, pred_y_1) )"
      ],
      "execution_count": null,
      "outputs": [
        {
          "output_type": "stream",
          "text": [
            "[0 1]\n",
            "0.6954612005856515\n"
          ],
          "name": "stdout"
        },
        {
          "output_type": "stream",
          "text": [
            "/usr/local/lib/python3.6/dist-packages/sklearn/linear_model/_logistic.py:940: ConvergenceWarning: lbfgs failed to converge (status=1):\n",
            "STOP: TOTAL NO. of ITERATIONS REACHED LIMIT.\n",
            "\n",
            "Increase the number of iterations (max_iter) or scale the data as shown in:\n",
            "    https://scikit-learn.org/stable/modules/preprocessing.html\n",
            "Please also refer to the documentation for alternative solver options:\n",
            "    https://scikit-learn.org/stable/modules/linear_model.html#logistic-regression\n",
            "  extra_warning_msg=_LOGISTIC_SOLVER_CONVERGENCE_MSG)\n"
          ],
          "name": "stderr"
        }
      ]
    },
    {
      "cell_type": "markdown",
      "metadata": {
        "id": "AfyBocdwBwqA"
      },
      "source": [
        "**Decision Tree 1:** All attributes"
      ]
    },
    {
      "cell_type": "code",
      "metadata": {
        "id": "khg1udfCQ-qk"
      },
      "source": [
        "# First split the data into train and test set\n",
        "from sklearn.model_selection import train_test_split\n",
        "\n",
        "# Split dataset into training set and test set\n",
        "# Our class column is Creditability here and everything else will be used as features \n",
        "feature_names=df_upsampled.columns[df_upsampled.columns != 'Creditability']\n",
        "# 70% training and 30% test\n",
        "X_train, X_test, y_train, y_test = train_test_split(df_upsampled.loc[:, feature_names], df_upsampled['Creditability'], test_size=0.3,random_state=1) "
      ],
      "execution_count": null,
      "outputs": []
    },
    {
      "cell_type": "code",
      "metadata": {
        "id": "6rqJTXAYXYs_",
        "colab": {
          "base_uri": "https://localhost:8080/"
        },
        "outputId": "abf7d81d-101c-44c2-a7d5-2ad57f20a4fe"
      },
      "source": [
        "from sklearn import tree\n",
        "clf = tree.DecisionTreeClassifier(max_depth=5)\n",
        "clf = clf.fit(X_train, y_train)\n",
        "print(\"Successfuly trained the decision tree...\")"
      ],
      "execution_count": null,
      "outputs": [
        {
          "output_type": "stream",
          "text": [
            "Successfuly trained the decision tree...\n"
          ],
          "name": "stdout"
        }
      ]
    },
    {
      "cell_type": "code",
      "metadata": {
        "id": "snfXHFuHXY6R",
        "colab": {
          "base_uri": "https://localhost:8080/",
          "height": 936
        },
        "outputId": "5607ef33-ab50-4baf-81c0-b39a9f58cf36"
      },
      "source": [
        "import graphviz\n",
        "dot_data = tree.export_graphviz(clf, out_file=None, \n",
        "                                feature_names=feature_names,  \n",
        "                                class_names=[\"0\",\"1\"],\n",
        "                                filled=True)\n",
        "# Plot tree\n",
        "graph = graphviz.Source(dot_data, format=\"png\") \n",
        "graph\n"
      ],
      "execution_count": null,
      "outputs": [
        {
          "output_type": "execute_result",
          "data": {
            "text/plain": [
              "<graphviz.files.Source at 0x7f9a73191c18>"
            ],
            "image/svg+xml": "<?xml version=\"1.0\" encoding=\"UTF-8\" standalone=\"no\"?>\n<!DOCTYPE svg PUBLIC \"-//W3C//DTD SVG 1.1//EN\"\n \"http://www.w3.org/Graphics/SVG/1.1/DTD/svg11.dtd\">\n<!-- Generated by graphviz version 2.40.1 (20161225.0304)\n -->\n<!-- Title: Tree Pages: 1 -->\n<svg width=\"3027pt\" height=\"671pt\"\n viewBox=\"0.00 0.00 3027.00 671.00\" xmlns=\"http://www.w3.org/2000/svg\" xmlns:xlink=\"http://www.w3.org/1999/xlink\">\n<g id=\"graph0\" class=\"graph\" transform=\"scale(1 1) rotate(0) translate(4 667)\">\n<title>Tree</title>\n<polygon fill=\"#ffffff\" stroke=\"transparent\" points=\"-4,4 -4,-667 3023,-667 3023,4 -4,4\"/>\n<!-- 0 -->\n<g id=\"node1\" class=\"node\">\n<title>0</title>\n<polygon fill=\"#fefcfa\" stroke=\"#000000\" points=\"1710,-663 1553,-663 1553,-580 1710,-580 1710,-663\"/>\n<text text-anchor=\"middle\" x=\"1631.5\" y=\"-647.8\" font-family=\"Times,serif\" font-size=\"14.00\" fill=\"#000000\">Account Balance &lt;= 2.5</text>\n<text text-anchor=\"middle\" x=\"1631.5\" y=\"-632.8\" font-family=\"Times,serif\" font-size=\"14.00\" fill=\"#000000\">gini = 0.5</text>\n<text text-anchor=\"middle\" x=\"1631.5\" y=\"-617.8\" font-family=\"Times,serif\" font-size=\"14.00\" fill=\"#000000\">samples = 956</text>\n<text text-anchor=\"middle\" x=\"1631.5\" y=\"-602.8\" font-family=\"Times,serif\" font-size=\"14.00\" fill=\"#000000\">value = [484, 472]</text>\n<text text-anchor=\"middle\" x=\"1631.5\" y=\"-587.8\" font-family=\"Times,serif\" font-size=\"14.00\" fill=\"#000000\">class = 0</text>\n</g>\n<!-- 1 -->\n<g id=\"node2\" class=\"node\">\n<title>1</title>\n<polygon fill=\"#f4caab\" stroke=\"#000000\" points=\"1329.5,-544 1105.5,-544 1105.5,-461 1329.5,-461 1329.5,-544\"/>\n<text text-anchor=\"middle\" x=\"1217.5\" y=\"-528.8\" font-family=\"Times,serif\" font-size=\"14.00\" fill=\"#000000\">Most valuable available asset &lt;= 1.5</text>\n<text text-anchor=\"middle\" x=\"1217.5\" y=\"-513.8\" font-family=\"Times,serif\" font-size=\"14.00\" fill=\"#000000\">gini = 0.464</text>\n<text text-anchor=\"middle\" x=\"1217.5\" y=\"-498.8\" font-family=\"Times,serif\" font-size=\"14.00\" fill=\"#000000\">samples = 588</text>\n<text text-anchor=\"middle\" x=\"1217.5\" y=\"-483.8\" font-family=\"Times,serif\" font-size=\"14.00\" fill=\"#000000\">value = [373, 215]</text>\n<text text-anchor=\"middle\" x=\"1217.5\" y=\"-468.8\" font-family=\"Times,serif\" font-size=\"14.00\" fill=\"#000000\">class = 0</text>\n</g>\n<!-- 0&#45;&gt;1 -->\n<g id=\"edge1\" class=\"edge\">\n<title>0&#45;&gt;1</title>\n<path fill=\"none\" stroke=\"#000000\" d=\"M1552.6553,-598.8369C1492.3812,-581.5118 1408.2074,-557.3169 1339.2956,-537.5089\"/>\n<polygon fill=\"#000000\" stroke=\"#000000\" points=\"1340.255,-534.143 1329.6772,-534.7442 1338.3212,-540.8706 1340.255,-534.143\"/>\n<text text-anchor=\"middle\" x=\"1341.7834\" y=\"-552.9174\" font-family=\"Times,serif\" font-size=\"14.00\" fill=\"#000000\">True</text>\n</g>\n<!-- 30 -->\n<g id=\"node31\" class=\"node\">\n<title>30</title>\n<polygon fill=\"#8fc7f0\" stroke=\"#000000\" points=\"2088.5,-544 1920.5,-544 1920.5,-461 2088.5,-461 2088.5,-544\"/>\n<text text-anchor=\"middle\" x=\"2004.5\" y=\"-528.8\" font-family=\"Times,serif\" font-size=\"14.00\" fill=\"#000000\">Credit Amount &lt;= 4103.0</text>\n<text text-anchor=\"middle\" x=\"2004.5\" y=\"-513.8\" font-family=\"Times,serif\" font-size=\"14.00\" fill=\"#000000\">gini = 0.421</text>\n<text text-anchor=\"middle\" x=\"2004.5\" y=\"-498.8\" font-family=\"Times,serif\" font-size=\"14.00\" fill=\"#000000\">samples = 368</text>\n<text text-anchor=\"middle\" x=\"2004.5\" y=\"-483.8\" font-family=\"Times,serif\" font-size=\"14.00\" fill=\"#000000\">value = [111, 257]</text>\n<text text-anchor=\"middle\" x=\"2004.5\" y=\"-468.8\" font-family=\"Times,serif\" font-size=\"14.00\" fill=\"#000000\">class = 1</text>\n</g>\n<!-- 0&#45;&gt;30 -->\n<g id=\"edge30\" class=\"edge\">\n<title>0&#45;&gt;30</title>\n<path fill=\"none\" stroke=\"#000000\" d=\"M1710.1479,-596.4086C1768.6801,-577.7348 1848.8065,-552.1716 1910.6826,-532.431\"/>\n<polygon fill=\"#000000\" stroke=\"#000000\" points=\"1911.9874,-535.6886 1920.4505,-529.3147 1909.8598,-529.0198 1911.9874,-535.6886\"/>\n<text text-anchor=\"middle\" x=\"1908.9821\" y=\"-547.829\" font-family=\"Times,serif\" font-size=\"14.00\" fill=\"#000000\">False</text>\n</g>\n<!-- 2 -->\n<g id=\"node3\" class=\"node\">\n<title>2</title>\n<polygon fill=\"#d8ecfa\" stroke=\"#000000\" points=\"599.5,-425 377.5,-425 377.5,-342 599.5,-342 599.5,-425\"/>\n<text text-anchor=\"middle\" x=\"488.5\" y=\"-409.8\" font-family=\"Times,serif\" font-size=\"14.00\" fill=\"#000000\">Duration of Credit (month) &lt;= 11.5</text>\n<text text-anchor=\"middle\" x=\"488.5\" y=\"-394.8\" font-family=\"Times,serif\" font-size=\"14.00\" fill=\"#000000\">gini = 0.494</text>\n<text text-anchor=\"middle\" x=\"488.5\" y=\"-379.8\" font-family=\"Times,serif\" font-size=\"14.00\" fill=\"#000000\">samples = 146</text>\n<text text-anchor=\"middle\" x=\"488.5\" y=\"-364.8\" font-family=\"Times,serif\" font-size=\"14.00\" fill=\"#000000\">value = [65, 81]</text>\n<text text-anchor=\"middle\" x=\"488.5\" y=\"-349.8\" font-family=\"Times,serif\" font-size=\"14.00\" fill=\"#000000\">class = 1</text>\n</g>\n<!-- 1&#45;&gt;2 -->\n<g id=\"edge2\" class=\"edge\">\n<title>1&#45;&gt;2</title>\n<path fill=\"none\" stroke=\"#000000\" d=\"M1105.1914,-484.167C971.1537,-462.2871 747.8746,-425.8396 609.9329,-403.3224\"/>\n<polygon fill=\"#000000\" stroke=\"#000000\" points=\"610.1732,-399.8154 599.7399,-401.6585 609.0454,-406.7239 610.1732,-399.8154\"/>\n</g>\n<!-- 15 -->\n<g id=\"node16\" class=\"node\">\n<title>15</title>\n<polygon fill=\"#f0b88f\" stroke=\"#000000\" points=\"1309,-425 1126,-425 1126,-342 1309,-342 1309,-425\"/>\n<text text-anchor=\"middle\" x=\"1217.5\" y=\"-409.8\" font-family=\"Times,serif\" font-size=\"14.00\" fill=\"#000000\">Value Savings/Stocks &lt;= 2.5</text>\n<text text-anchor=\"middle\" x=\"1217.5\" y=\"-394.8\" font-family=\"Times,serif\" font-size=\"14.00\" fill=\"#000000\">gini = 0.423</text>\n<text text-anchor=\"middle\" x=\"1217.5\" y=\"-379.8\" font-family=\"Times,serif\" font-size=\"14.00\" fill=\"#000000\">samples = 442</text>\n<text text-anchor=\"middle\" x=\"1217.5\" y=\"-364.8\" font-family=\"Times,serif\" font-size=\"14.00\" fill=\"#000000\">value = [308, 134]</text>\n<text text-anchor=\"middle\" x=\"1217.5\" y=\"-349.8\" font-family=\"Times,serif\" font-size=\"14.00\" fill=\"#000000\">class = 0</text>\n</g>\n<!-- 1&#45;&gt;15 -->\n<g id=\"edge15\" class=\"edge\">\n<title>1&#45;&gt;15</title>\n<path fill=\"none\" stroke=\"#000000\" d=\"M1217.5,-460.8796C1217.5,-452.6838 1217.5,-443.9891 1217.5,-435.5013\"/>\n<polygon fill=\"#000000\" stroke=\"#000000\" points=\"1221.0001,-435.298 1217.5,-425.2981 1214.0001,-435.2981 1221.0001,-435.298\"/>\n</g>\n<!-- 3 -->\n<g id=\"node4\" class=\"node\">\n<title>3</title>\n<polygon fill=\"#47a4e7\" stroke=\"#000000\" points=\"269,-306 90,-306 90,-223 269,-223 269,-306\"/>\n<text text-anchor=\"middle\" x=\"179.5\" y=\"-290.8\" font-family=\"Times,serif\" font-size=\"14.00\" fill=\"#000000\">Sex &amp; Marital Status &lt;= 1.5</text>\n<text text-anchor=\"middle\" x=\"179.5\" y=\"-275.8\" font-family=\"Times,serif\" font-size=\"14.00\" fill=\"#000000\">gini = 0.121</text>\n<text text-anchor=\"middle\" x=\"179.5\" y=\"-260.8\" font-family=\"Times,serif\" font-size=\"14.00\" fill=\"#000000\">samples = 31</text>\n<text text-anchor=\"middle\" x=\"179.5\" y=\"-245.8\" font-family=\"Times,serif\" font-size=\"14.00\" fill=\"#000000\">value = [2, 29]</text>\n<text text-anchor=\"middle\" x=\"179.5\" y=\"-230.8\" font-family=\"Times,serif\" font-size=\"14.00\" fill=\"#000000\">class = 1</text>\n</g>\n<!-- 2&#45;&gt;3 -->\n<g id=\"edge3\" class=\"edge\">\n<title>2&#45;&gt;3</title>\n<path fill=\"none\" stroke=\"#000000\" d=\"M380.4268,-341.8796C347.3211,-329.1301 311.0802,-315.1733 278.6034,-302.6661\"/>\n<polygon fill=\"#000000\" stroke=\"#000000\" points=\"279.6923,-299.3349 269.1025,-299.0071 277.1766,-305.8672 279.6923,-299.3349\"/>\n</g>\n<!-- 8 -->\n<g id=\"node9\" class=\"node\">\n<title>8</title>\n<polygon fill=\"#fae9dc\" stroke=\"#000000\" points=\"549.5,-306 427.5,-306 427.5,-223 549.5,-223 549.5,-306\"/>\n<text text-anchor=\"middle\" x=\"488.5\" y=\"-290.8\" font-family=\"Times,serif\" font-size=\"14.00\" fill=\"#000000\">Guarantors &lt;= 2.5</text>\n<text text-anchor=\"middle\" x=\"488.5\" y=\"-275.8\" font-family=\"Times,serif\" font-size=\"14.00\" fill=\"#000000\">gini = 0.495</text>\n<text text-anchor=\"middle\" x=\"488.5\" y=\"-260.8\" font-family=\"Times,serif\" font-size=\"14.00\" fill=\"#000000\">samples = 115</text>\n<text text-anchor=\"middle\" x=\"488.5\" y=\"-245.8\" font-family=\"Times,serif\" font-size=\"14.00\" fill=\"#000000\">value = [63, 52]</text>\n<text text-anchor=\"middle\" x=\"488.5\" y=\"-230.8\" font-family=\"Times,serif\" font-size=\"14.00\" fill=\"#000000\">class = 0</text>\n</g>\n<!-- 2&#45;&gt;8 -->\n<g id=\"edge8\" class=\"edge\">\n<title>2&#45;&gt;8</title>\n<path fill=\"none\" stroke=\"#000000\" d=\"M488.5,-341.8796C488.5,-333.6838 488.5,-324.9891 488.5,-316.5013\"/>\n<polygon fill=\"#000000\" stroke=\"#000000\" points=\"492.0001,-316.298 488.5,-306.2981 485.0001,-316.2981 492.0001,-316.298\"/>\n</g>\n<!-- 4 -->\n<g id=\"node5\" class=\"node\">\n<title>4</title>\n<polygon fill=\"#e58139\" stroke=\"#000000\" points=\"95,-179.5 0,-179.5 0,-111.5 95,-111.5 95,-179.5\"/>\n<text text-anchor=\"middle\" x=\"47.5\" y=\"-164.3\" font-family=\"Times,serif\" font-size=\"14.00\" fill=\"#000000\">gini = 0.0</text>\n<text text-anchor=\"middle\" x=\"47.5\" y=\"-149.3\" font-family=\"Times,serif\" font-size=\"14.00\" fill=\"#000000\">samples = 1</text>\n<text text-anchor=\"middle\" x=\"47.5\" y=\"-134.3\" font-family=\"Times,serif\" font-size=\"14.00\" fill=\"#000000\">value = [1, 0]</text>\n<text text-anchor=\"middle\" x=\"47.5\" y=\"-119.3\" font-family=\"Times,serif\" font-size=\"14.00\" fill=\"#000000\">class = 0</text>\n</g>\n<!-- 3&#45;&gt;4 -->\n<g id=\"edge4\" class=\"edge\">\n<title>3&#45;&gt;4</title>\n<path fill=\"none\" stroke=\"#000000\" d=\"M133.3328,-222.8796C120.2817,-211.1138 106.0899,-198.3197 93.0739,-186.5855\"/>\n<polygon fill=\"#000000\" stroke=\"#000000\" points=\"95.3346,-183.9113 85.5636,-179.8149 90.6474,-189.1104 95.3346,-183.9113\"/>\n</g>\n<!-- 5 -->\n<g id=\"node6\" class=\"node\">\n<title>5</title>\n<polygon fill=\"#40a0e6\" stroke=\"#000000\" points=\"246,-187 113,-187 113,-104 246,-104 246,-187\"/>\n<text text-anchor=\"middle\" x=\"179.5\" y=\"-171.8\" font-family=\"Times,serif\" font-size=\"14.00\" fill=\"#000000\">Age (years) &lt;= 24.5</text>\n<text text-anchor=\"middle\" x=\"179.5\" y=\"-156.8\" font-family=\"Times,serif\" font-size=\"14.00\" fill=\"#000000\">gini = 0.064</text>\n<text text-anchor=\"middle\" x=\"179.5\" y=\"-141.8\" font-family=\"Times,serif\" font-size=\"14.00\" fill=\"#000000\">samples = 30</text>\n<text text-anchor=\"middle\" x=\"179.5\" y=\"-126.8\" font-family=\"Times,serif\" font-size=\"14.00\" fill=\"#000000\">value = [1, 29]</text>\n<text text-anchor=\"middle\" x=\"179.5\" y=\"-111.8\" font-family=\"Times,serif\" font-size=\"14.00\" fill=\"#000000\">class = 1</text>\n</g>\n<!-- 3&#45;&gt;5 -->\n<g id=\"edge5\" class=\"edge\">\n<title>3&#45;&gt;5</title>\n<path fill=\"none\" stroke=\"#000000\" d=\"M179.5,-222.8796C179.5,-214.6838 179.5,-205.9891 179.5,-197.5013\"/>\n<polygon fill=\"#000000\" stroke=\"#000000\" points=\"183.0001,-197.298 179.5,-187.2981 176.0001,-197.2981 183.0001,-197.298\"/>\n</g>\n<!-- 6 -->\n<g id=\"node7\" class=\"node\">\n<title>6</title>\n<polygon fill=\"#7bbeee\" stroke=\"#000000\" points=\"110,-68 15,-68 15,0 110,0 110,-68\"/>\n<text text-anchor=\"middle\" x=\"62.5\" y=\"-52.8\" font-family=\"Times,serif\" font-size=\"14.00\" fill=\"#000000\">gini = 0.375</text>\n<text text-anchor=\"middle\" x=\"62.5\" y=\"-37.8\" font-family=\"Times,serif\" font-size=\"14.00\" fill=\"#000000\">samples = 4</text>\n<text text-anchor=\"middle\" x=\"62.5\" y=\"-22.8\" font-family=\"Times,serif\" font-size=\"14.00\" fill=\"#000000\">value = [1, 3]</text>\n<text text-anchor=\"middle\" x=\"62.5\" y=\"-7.8\" font-family=\"Times,serif\" font-size=\"14.00\" fill=\"#000000\">class = 1</text>\n</g>\n<!-- 5&#45;&gt;6 -->\n<g id=\"edge6\" class=\"edge\">\n<title>5&#45;&gt;6</title>\n<path fill=\"none\" stroke=\"#000000\" d=\"M135.9335,-103.9815C126.0966,-94.607 115.656,-84.6572 105.8289,-75.2921\"/>\n<polygon fill=\"#000000\" stroke=\"#000000\" points=\"108.1076,-72.6289 98.4538,-68.2637 103.2784,-77.6963 108.1076,-72.6289\"/>\n</g>\n<!-- 7 -->\n<g id=\"node8\" class=\"node\">\n<title>7</title>\n<polygon fill=\"#399de5\" stroke=\"#000000\" points=\"230.5,-68 128.5,-68 128.5,0 230.5,0 230.5,-68\"/>\n<text text-anchor=\"middle\" x=\"179.5\" y=\"-52.8\" font-family=\"Times,serif\" font-size=\"14.00\" fill=\"#000000\">gini = 0.0</text>\n<text text-anchor=\"middle\" x=\"179.5\" y=\"-37.8\" font-family=\"Times,serif\" font-size=\"14.00\" fill=\"#000000\">samples = 26</text>\n<text text-anchor=\"middle\" x=\"179.5\" y=\"-22.8\" font-family=\"Times,serif\" font-size=\"14.00\" fill=\"#000000\">value = [0, 26]</text>\n<text text-anchor=\"middle\" x=\"179.5\" y=\"-7.8\" font-family=\"Times,serif\" font-size=\"14.00\" fill=\"#000000\">class = 1</text>\n</g>\n<!-- 5&#45;&gt;7 -->\n<g id=\"edge7\" class=\"edge\">\n<title>5&#45;&gt;7</title>\n<path fill=\"none\" stroke=\"#000000\" d=\"M179.5,-103.9815C179.5,-95.618 179.5,-86.7965 179.5,-78.3409\"/>\n<polygon fill=\"#000000\" stroke=\"#000000\" points=\"183.0001,-78.2636 179.5,-68.2637 176.0001,-78.2637 183.0001,-78.2636\"/>\n</g>\n<!-- 9 -->\n<g id=\"node10\" class=\"node\">\n<title>9</title>\n<polygon fill=\"#f5cdb1\" stroke=\"#000000\" points=\"483,-187 300,-187 300,-104 483,-104 483,-187\"/>\n<text text-anchor=\"middle\" x=\"391.5\" y=\"-171.8\" font-family=\"Times,serif\" font-size=\"14.00\" fill=\"#000000\">Value Savings/Stocks &lt;= 1.5</text>\n<text text-anchor=\"middle\" x=\"391.5\" y=\"-156.8\" font-family=\"Times,serif\" font-size=\"14.00\" fill=\"#000000\">gini = 0.47</text>\n<text text-anchor=\"middle\" x=\"391.5\" y=\"-141.8\" font-family=\"Times,serif\" font-size=\"14.00\" fill=\"#000000\">samples = 98</text>\n<text text-anchor=\"middle\" x=\"391.5\" y=\"-126.8\" font-family=\"Times,serif\" font-size=\"14.00\" fill=\"#000000\">value = [61, 37]</text>\n<text text-anchor=\"middle\" x=\"391.5\" y=\"-111.8\" font-family=\"Times,serif\" font-size=\"14.00\" fill=\"#000000\">class = 0</text>\n</g>\n<!-- 8&#45;&gt;9 -->\n<g id=\"edge9\" class=\"edge\">\n<title>8&#45;&gt;9</title>\n<path fill=\"none\" stroke=\"#000000\" d=\"M454.5741,-222.8796C447.3062,-213.9633 439.557,-204.4565 432.0672,-195.268\"/>\n<polygon fill=\"#000000\" stroke=\"#000000\" points=\"434.6018,-192.8379 425.5707,-187.2981 429.176,-197.2606 434.6018,-192.8379\"/>\n</g>\n<!-- 12 -->\n<g id=\"node13\" class=\"node\">\n<title>12</title>\n<polygon fill=\"#53aae8\" stroke=\"#000000\" points=\"669.5,-187 501.5,-187 501.5,-104 669.5,-104 669.5,-187\"/>\n<text text-anchor=\"middle\" x=\"585.5\" y=\"-171.8\" font-family=\"Times,serif\" font-size=\"14.00\" fill=\"#000000\">Credit Amount &lt;= 4758.0</text>\n<text text-anchor=\"middle\" x=\"585.5\" y=\"-156.8\" font-family=\"Times,serif\" font-size=\"14.00\" fill=\"#000000\">gini = 0.208</text>\n<text text-anchor=\"middle\" x=\"585.5\" y=\"-141.8\" font-family=\"Times,serif\" font-size=\"14.00\" fill=\"#000000\">samples = 17</text>\n<text text-anchor=\"middle\" x=\"585.5\" y=\"-126.8\" font-family=\"Times,serif\" font-size=\"14.00\" fill=\"#000000\">value = [2, 15]</text>\n<text text-anchor=\"middle\" x=\"585.5\" y=\"-111.8\" font-family=\"Times,serif\" font-size=\"14.00\" fill=\"#000000\">class = 1</text>\n</g>\n<!-- 8&#45;&gt;12 -->\n<g id=\"edge12\" class=\"edge\">\n<title>8&#45;&gt;12</title>\n<path fill=\"none\" stroke=\"#000000\" d=\"M522.4259,-222.8796C529.6938,-213.9633 537.443,-204.4565 544.9328,-195.268\"/>\n<polygon fill=\"#000000\" stroke=\"#000000\" points=\"547.824,-197.2606 551.4293,-187.2981 542.3982,-192.8379 547.824,-197.2606\"/>\n</g>\n<!-- 10 -->\n<g id=\"node11\" class=\"node\">\n<title>10</title>\n<polygon fill=\"#efb489\" stroke=\"#000000\" points=\"358.5,-68 248.5,-68 248.5,0 358.5,0 358.5,-68\"/>\n<text text-anchor=\"middle\" x=\"303.5\" y=\"-52.8\" font-family=\"Times,serif\" font-size=\"14.00\" fill=\"#000000\">gini = 0.41</text>\n<text text-anchor=\"middle\" x=\"303.5\" y=\"-37.8\" font-family=\"Times,serif\" font-size=\"14.00\" fill=\"#000000\">samples = 80</text>\n<text text-anchor=\"middle\" x=\"303.5\" y=\"-22.8\" font-family=\"Times,serif\" font-size=\"14.00\" fill=\"#000000\">value = [57, 23]</text>\n<text text-anchor=\"middle\" x=\"303.5\" y=\"-7.8\" font-family=\"Times,serif\" font-size=\"14.00\" fill=\"#000000\">class = 0</text>\n</g>\n<!-- 9&#45;&gt;10 -->\n<g id=\"edge10\" class=\"edge\">\n<title>9&#45;&gt;10</title>\n<path fill=\"none\" stroke=\"#000000\" d=\"M358.732,-103.9815C351.551,-94.8828 343.9421,-85.242 336.7426,-76.1199\"/>\n<polygon fill=\"#000000\" stroke=\"#000000\" points=\"339.4849,-73.9451 330.5422,-68.2637 333.9901,-78.2818 339.4849,-73.9451\"/>\n</g>\n<!-- 11 -->\n<g id=\"node12\" class=\"node\">\n<title>11</title>\n<polygon fill=\"#72b9ec\" stroke=\"#000000\" points=\"478.5,-68 376.5,-68 376.5,0 478.5,0 478.5,-68\"/>\n<text text-anchor=\"middle\" x=\"427.5\" y=\"-52.8\" font-family=\"Times,serif\" font-size=\"14.00\" fill=\"#000000\">gini = 0.346</text>\n<text text-anchor=\"middle\" x=\"427.5\" y=\"-37.8\" font-family=\"Times,serif\" font-size=\"14.00\" fill=\"#000000\">samples = 18</text>\n<text text-anchor=\"middle\" x=\"427.5\" y=\"-22.8\" font-family=\"Times,serif\" font-size=\"14.00\" fill=\"#000000\">value = [4, 14]</text>\n<text text-anchor=\"middle\" x=\"427.5\" y=\"-7.8\" font-family=\"Times,serif\" font-size=\"14.00\" fill=\"#000000\">class = 1</text>\n</g>\n<!-- 9&#45;&gt;11 -->\n<g id=\"edge11\" class=\"edge\">\n<title>9&#45;&gt;11</title>\n<path fill=\"none\" stroke=\"#000000\" d=\"M404.9051,-103.9815C407.6647,-95.4342 410.5788,-86.4086 413.3635,-77.7839\"/>\n<polygon fill=\"#000000\" stroke=\"#000000\" points=\"416.6954,-78.8554 416.4373,-68.2637 410.034,-76.7046 416.6954,-78.8554\"/>\n</g>\n<!-- 13 -->\n<g id=\"node14\" class=\"node\">\n<title>13</title>\n<polygon fill=\"#46a4e7\" stroke=\"#000000\" points=\"598.5,-68 496.5,-68 496.5,0 598.5,0 598.5,-68\"/>\n<text text-anchor=\"middle\" x=\"547.5\" y=\"-52.8\" font-family=\"Times,serif\" font-size=\"14.00\" fill=\"#000000\">gini = 0.117</text>\n<text text-anchor=\"middle\" x=\"547.5\" y=\"-37.8\" font-family=\"Times,serif\" font-size=\"14.00\" fill=\"#000000\">samples = 16</text>\n<text text-anchor=\"middle\" x=\"547.5\" y=\"-22.8\" font-family=\"Times,serif\" font-size=\"14.00\" fill=\"#000000\">value = [1, 15]</text>\n<text text-anchor=\"middle\" x=\"547.5\" y=\"-7.8\" font-family=\"Times,serif\" font-size=\"14.00\" fill=\"#000000\">class = 1</text>\n</g>\n<!-- 12&#45;&gt;13 -->\n<g id=\"edge13\" class=\"edge\">\n<title>12&#45;&gt;13</title>\n<path fill=\"none\" stroke=\"#000000\" d=\"M571.3502,-103.9815C568.4372,-95.4342 565.3612,-86.4086 562.4219,-77.7839\"/>\n<polygon fill=\"#000000\" stroke=\"#000000\" points=\"565.7161,-76.6 559.1773,-68.2637 559.0904,-78.8582 565.7161,-76.6\"/>\n</g>\n<!-- 14 -->\n<g id=\"node15\" class=\"node\">\n<title>14</title>\n<polygon fill=\"#e58139\" stroke=\"#000000\" points=\"712,-68 617,-68 617,0 712,0 712,-68\"/>\n<text text-anchor=\"middle\" x=\"664.5\" y=\"-52.8\" font-family=\"Times,serif\" font-size=\"14.00\" fill=\"#000000\">gini = 0.0</text>\n<text text-anchor=\"middle\" x=\"664.5\" y=\"-37.8\" font-family=\"Times,serif\" font-size=\"14.00\" fill=\"#000000\">samples = 1</text>\n<text text-anchor=\"middle\" x=\"664.5\" y=\"-22.8\" font-family=\"Times,serif\" font-size=\"14.00\" fill=\"#000000\">value = [1, 0]</text>\n<text text-anchor=\"middle\" x=\"664.5\" y=\"-7.8\" font-family=\"Times,serif\" font-size=\"14.00\" fill=\"#000000\">class = 0</text>\n</g>\n<!-- 12&#45;&gt;14 -->\n<g id=\"edge14\" class=\"edge\">\n<title>12&#45;&gt;14</title>\n<path fill=\"none\" stroke=\"#000000\" d=\"M614.9167,-103.9815C621.2331,-95.0666 627.9182,-85.6313 634.2651,-76.6734\"/>\n<polygon fill=\"#000000\" stroke=\"#000000\" points=\"637.2981,-78.4466 640.2235,-68.2637 631.5864,-74.3998 637.2981,-78.4466\"/>\n</g>\n<!-- 16 -->\n<g id=\"node17\" class=\"node\">\n<title>16</title>\n<polygon fill=\"#eeaf81\" stroke=\"#000000\" points=\"1185.5,-306 1017.5,-306 1017.5,-223 1185.5,-223 1185.5,-306\"/>\n<text text-anchor=\"middle\" x=\"1101.5\" y=\"-290.8\" font-family=\"Times,serif\" font-size=\"14.00\" fill=\"#000000\">Credit Amount &lt;= 7633.5</text>\n<text text-anchor=\"middle\" x=\"1101.5\" y=\"-275.8\" font-family=\"Times,serif\" font-size=\"14.00\" fill=\"#000000\">gini = 0.391</text>\n<text text-anchor=\"middle\" x=\"1101.5\" y=\"-260.8\" font-family=\"Times,serif\" font-size=\"14.00\" fill=\"#000000\">samples = 367</text>\n<text text-anchor=\"middle\" x=\"1101.5\" y=\"-245.8\" font-family=\"Times,serif\" font-size=\"14.00\" fill=\"#000000\">value = [269, 98]</text>\n<text text-anchor=\"middle\" x=\"1101.5\" y=\"-230.8\" font-family=\"Times,serif\" font-size=\"14.00\" fill=\"#000000\">class = 0</text>\n</g>\n<!-- 15&#45;&gt;16 -->\n<g id=\"edge16\" class=\"edge\">\n<title>15&#45;&gt;16</title>\n<path fill=\"none\" stroke=\"#000000\" d=\"M1176.9288,-341.8796C1168.0618,-332.7832 1158.5956,-323.0722 1149.4709,-313.7116\"/>\n<polygon fill=\"#000000\" stroke=\"#000000\" points=\"1151.7309,-311.0158 1142.2443,-306.2981 1146.7183,-315.9019 1151.7309,-311.0158\"/>\n</g>\n<!-- 23 -->\n<g id=\"node24\" class=\"node\">\n<title>23</title>\n<polygon fill=\"#fdf5f0\" stroke=\"#000000\" points=\"1445,-306 1222,-306 1222,-223 1445,-223 1445,-306\"/>\n<text text-anchor=\"middle\" x=\"1333.5\" y=\"-290.8\" font-family=\"Times,serif\" font-size=\"14.00\" fill=\"#000000\">Duration of Credit (month) &lt;= 16.5</text>\n<text text-anchor=\"middle\" x=\"1333.5\" y=\"-275.8\" font-family=\"Times,serif\" font-size=\"14.00\" fill=\"#000000\">gini = 0.499</text>\n<text text-anchor=\"middle\" x=\"1333.5\" y=\"-260.8\" font-family=\"Times,serif\" font-size=\"14.00\" fill=\"#000000\">samples = 75</text>\n<text text-anchor=\"middle\" x=\"1333.5\" y=\"-245.8\" font-family=\"Times,serif\" font-size=\"14.00\" fill=\"#000000\">value = [39, 36]</text>\n<text text-anchor=\"middle\" x=\"1333.5\" y=\"-230.8\" font-family=\"Times,serif\" font-size=\"14.00\" fill=\"#000000\">class = 0</text>\n</g>\n<!-- 15&#45;&gt;23 -->\n<g id=\"edge23\" class=\"edge\">\n<title>15&#45;&gt;23</title>\n<path fill=\"none\" stroke=\"#000000\" d=\"M1258.0712,-341.8796C1266.9382,-332.7832 1276.4044,-323.0722 1285.5291,-313.7116\"/>\n<polygon fill=\"#000000\" stroke=\"#000000\" points=\"1288.2817,-315.9019 1292.7557,-306.2981 1283.2691,-311.0158 1288.2817,-315.9019\"/>\n</g>\n<!-- 17 -->\n<g id=\"node18\" class=\"node\">\n<title>17</title>\n<polygon fill=\"#f0b68d\" stroke=\"#000000\" points=\"979,-187 812,-187 812,-104 979,-104 979,-187\"/>\n<text text-anchor=\"middle\" x=\"895.5\" y=\"-171.8\" font-family=\"Times,serif\" font-size=\"14.00\" fill=\"#000000\">Instalment per cent &lt;= 2.5</text>\n<text text-anchor=\"middle\" x=\"895.5\" y=\"-156.8\" font-family=\"Times,serif\" font-size=\"14.00\" fill=\"#000000\">gini = 0.418</text>\n<text text-anchor=\"middle\" x=\"895.5\" y=\"-141.8\" font-family=\"Times,serif\" font-size=\"14.00\" fill=\"#000000\">samples = 319</text>\n<text text-anchor=\"middle\" x=\"895.5\" y=\"-126.8\" font-family=\"Times,serif\" font-size=\"14.00\" fill=\"#000000\">value = [224, 95]</text>\n<text text-anchor=\"middle\" x=\"895.5\" y=\"-111.8\" font-family=\"Times,serif\" font-size=\"14.00\" fill=\"#000000\">class = 0</text>\n</g>\n<!-- 16&#45;&gt;17 -->\n<g id=\"edge17\" class=\"edge\">\n<title>16&#45;&gt;17</title>\n<path fill=\"none\" stroke=\"#000000\" d=\"M1029.4512,-222.8796C1012.3585,-213.0056 994.0121,-202.4075 976.5486,-192.3193\"/>\n<polygon fill=\"#000000\" stroke=\"#000000\" points=\"977.9179,-189.0684 967.5081,-187.0969 974.4164,-195.1297 977.9179,-189.0684\"/>\n</g>\n<!-- 20 -->\n<g id=\"node21\" class=\"node\">\n<title>20</title>\n<polygon fill=\"#e78946\" stroke=\"#000000\" points=\"1206,-187 997,-187 997,-104 1206,-104 1206,-187\"/>\n<text text-anchor=\"middle\" x=\"1101.5\" y=\"-171.8\" font-family=\"Times,serif\" font-size=\"14.00\" fill=\"#000000\">No of Credits at this Bank &lt;= 2.5</text>\n<text text-anchor=\"middle\" x=\"1101.5\" y=\"-156.8\" font-family=\"Times,serif\" font-size=\"14.00\" fill=\"#000000\">gini = 0.117</text>\n<text text-anchor=\"middle\" x=\"1101.5\" y=\"-141.8\" font-family=\"Times,serif\" font-size=\"14.00\" fill=\"#000000\">samples = 48</text>\n<text text-anchor=\"middle\" x=\"1101.5\" y=\"-126.8\" font-family=\"Times,serif\" font-size=\"14.00\" fill=\"#000000\">value = [45, 3]</text>\n<text text-anchor=\"middle\" x=\"1101.5\" y=\"-111.8\" font-family=\"Times,serif\" font-size=\"14.00\" fill=\"#000000\">class = 0</text>\n</g>\n<!-- 16&#45;&gt;20 -->\n<g id=\"edge20\" class=\"edge\">\n<title>16&#45;&gt;20</title>\n<path fill=\"none\" stroke=\"#000000\" d=\"M1101.5,-222.8796C1101.5,-214.6838 1101.5,-205.9891 1101.5,-197.5013\"/>\n<polygon fill=\"#000000\" stroke=\"#000000\" points=\"1105.0001,-197.298 1101.5,-187.2981 1098.0001,-197.2981 1105.0001,-197.298\"/>\n</g>\n<!-- 18 -->\n<g id=\"node19\" class=\"node\">\n<title>18</title>\n<polygon fill=\"#fbeee4\" stroke=\"#000000\" points=\"840.5,-68 730.5,-68 730.5,0 840.5,0 840.5,-68\"/>\n<text text-anchor=\"middle\" x=\"785.5\" y=\"-52.8\" font-family=\"Times,serif\" font-size=\"14.00\" fill=\"#000000\">gini = 0.497</text>\n<text text-anchor=\"middle\" x=\"785.5\" y=\"-37.8\" font-family=\"Times,serif\" font-size=\"14.00\" fill=\"#000000\">samples = 82</text>\n<text text-anchor=\"middle\" x=\"785.5\" y=\"-22.8\" font-family=\"Times,serif\" font-size=\"14.00\" fill=\"#000000\">value = [44, 38]</text>\n<text text-anchor=\"middle\" x=\"785.5\" y=\"-7.8\" font-family=\"Times,serif\" font-size=\"14.00\" fill=\"#000000\">class = 0</text>\n</g>\n<!-- 17&#45;&gt;18 -->\n<g id=\"edge18\" class=\"edge\">\n<title>17&#45;&gt;18</title>\n<path fill=\"none\" stroke=\"#000000\" d=\"M854.5401,-103.9815C845.3824,-94.6989 835.6681,-84.8522 826.5085,-75.5677\"/>\n<polygon fill=\"#000000\" stroke=\"#000000\" points=\"828.8174,-72.9244 819.3027,-68.2637 823.8342,-77.8406 828.8174,-72.9244\"/>\n</g>\n<!-- 19 -->\n<g id=\"node20\" class=\"node\">\n<title>19</title>\n<polygon fill=\"#eda978\" stroke=\"#000000\" points=\"976,-68 859,-68 859,0 976,0 976,-68\"/>\n<text text-anchor=\"middle\" x=\"917.5\" y=\"-52.8\" font-family=\"Times,serif\" font-size=\"14.00\" fill=\"#000000\">gini = 0.365</text>\n<text text-anchor=\"middle\" x=\"917.5\" y=\"-37.8\" font-family=\"Times,serif\" font-size=\"14.00\" fill=\"#000000\">samples = 237</text>\n<text text-anchor=\"middle\" x=\"917.5\" y=\"-22.8\" font-family=\"Times,serif\" font-size=\"14.00\" fill=\"#000000\">value = [180, 57]</text>\n<text text-anchor=\"middle\" x=\"917.5\" y=\"-7.8\" font-family=\"Times,serif\" font-size=\"14.00\" fill=\"#000000\">class = 0</text>\n</g>\n<!-- 17&#45;&gt;19 -->\n<g id=\"edge19\" class=\"edge\">\n<title>17&#45;&gt;19</title>\n<path fill=\"none\" stroke=\"#000000\" d=\"M903.692,-103.9815C905.3422,-95.618 907.0827,-86.7965 908.7511,-78.3409\"/>\n<polygon fill=\"#000000\" stroke=\"#000000\" points=\"912.2374,-78.7521 910.7395,-68.2637 905.3698,-77.397 912.2374,-78.7521\"/>\n</g>\n<!-- 21 -->\n<g id=\"node22\" class=\"node\">\n<title>21</title>\n<polygon fill=\"#e68742\" stroke=\"#000000\" points=\"1096.5,-68 994.5,-68 994.5,0 1096.5,0 1096.5,-68\"/>\n<text text-anchor=\"middle\" x=\"1045.5\" y=\"-52.8\" font-family=\"Times,serif\" font-size=\"14.00\" fill=\"#000000\">gini = 0.081</text>\n<text text-anchor=\"middle\" x=\"1045.5\" y=\"-37.8\" font-family=\"Times,serif\" font-size=\"14.00\" fill=\"#000000\">samples = 47</text>\n<text text-anchor=\"middle\" x=\"1045.5\" y=\"-22.8\" font-family=\"Times,serif\" font-size=\"14.00\" fill=\"#000000\">value = [45, 2]</text>\n<text text-anchor=\"middle\" x=\"1045.5\" y=\"-7.8\" font-family=\"Times,serif\" font-size=\"14.00\" fill=\"#000000\">class = 0</text>\n</g>\n<!-- 20&#45;&gt;21 -->\n<g id=\"edge21\" class=\"edge\">\n<title>20&#45;&gt;21</title>\n<path fill=\"none\" stroke=\"#000000\" d=\"M1080.6477,-103.9815C1076.2625,-95.2504 1071.6267,-86.0202 1067.211,-77.2281\"/>\n<polygon fill=\"#000000\" stroke=\"#000000\" points=\"1070.3246,-75.6291 1062.7087,-68.2637 1064.0692,-78.7708 1070.3246,-75.6291\"/>\n</g>\n<!-- 22 -->\n<g id=\"node23\" class=\"node\">\n<title>22</title>\n<polygon fill=\"#399de5\" stroke=\"#000000\" points=\"1210,-68 1115,-68 1115,0 1210,0 1210,-68\"/>\n<text text-anchor=\"middle\" x=\"1162.5\" y=\"-52.8\" font-family=\"Times,serif\" font-size=\"14.00\" fill=\"#000000\">gini = 0.0</text>\n<text text-anchor=\"middle\" x=\"1162.5\" y=\"-37.8\" font-family=\"Times,serif\" font-size=\"14.00\" fill=\"#000000\">samples = 1</text>\n<text text-anchor=\"middle\" x=\"1162.5\" y=\"-22.8\" font-family=\"Times,serif\" font-size=\"14.00\" fill=\"#000000\">value = [0, 1]</text>\n<text text-anchor=\"middle\" x=\"1162.5\" y=\"-7.8\" font-family=\"Times,serif\" font-size=\"14.00\" fill=\"#000000\">class = 1</text>\n</g>\n<!-- 20&#45;&gt;22 -->\n<g id=\"edge22\" class=\"edge\">\n<title>20&#45;&gt;22</title>\n<path fill=\"none\" stroke=\"#000000\" d=\"M1124.2141,-103.9815C1128.9908,-95.2504 1134.0405,-86.0202 1138.8506,-77.2281\"/>\n<polygon fill=\"#000000\" stroke=\"#000000\" points=\"1142.0258,-78.7165 1143.7549,-68.2637 1135.8847,-75.3568 1142.0258,-78.7165\"/>\n</g>\n<!-- 24 -->\n<g id=\"node25\" class=\"node\">\n<title>24</title>\n<polygon fill=\"#eeab7b\" stroke=\"#000000\" points=\"1442.5,-187 1224.5,-187 1224.5,-104 1442.5,-104 1442.5,-187\"/>\n<text text-anchor=\"middle\" x=\"1333.5\" y=\"-171.8\" font-family=\"Times,serif\" font-size=\"14.00\" fill=\"#000000\">Duration in Current address &lt;= 3.5</text>\n<text text-anchor=\"middle\" x=\"1333.5\" y=\"-156.8\" font-family=\"Times,serif\" font-size=\"14.00\" fill=\"#000000\">gini = 0.375</text>\n<text text-anchor=\"middle\" x=\"1333.5\" y=\"-141.8\" font-family=\"Times,serif\" font-size=\"14.00\" fill=\"#000000\">samples = 24</text>\n<text text-anchor=\"middle\" x=\"1333.5\" y=\"-126.8\" font-family=\"Times,serif\" font-size=\"14.00\" fill=\"#000000\">value = [18, 6]</text>\n<text text-anchor=\"middle\" x=\"1333.5\" y=\"-111.8\" font-family=\"Times,serif\" font-size=\"14.00\" fill=\"#000000\">class = 0</text>\n</g>\n<!-- 23&#45;&gt;24 -->\n<g id=\"edge24\" class=\"edge\">\n<title>23&#45;&gt;24</title>\n<path fill=\"none\" stroke=\"#000000\" d=\"M1333.5,-222.8796C1333.5,-214.6838 1333.5,-205.9891 1333.5,-197.5013\"/>\n<polygon fill=\"#000000\" stroke=\"#000000\" points=\"1337.0001,-197.298 1333.5,-187.2981 1330.0001,-197.2981 1337.0001,-197.298\"/>\n</g>\n<!-- 27 -->\n<g id=\"node28\" class=\"node\">\n<title>27</title>\n<polygon fill=\"#c4e2f7\" stroke=\"#000000\" points=\"1618,-187 1461,-187 1461,-104 1618,-104 1618,-187\"/>\n<text text-anchor=\"middle\" x=\"1539.5\" y=\"-171.8\" font-family=\"Times,serif\" font-size=\"14.00\" fill=\"#000000\">Account Balance &lt;= 1.5</text>\n<text text-anchor=\"middle\" x=\"1539.5\" y=\"-156.8\" font-family=\"Times,serif\" font-size=\"14.00\" fill=\"#000000\">gini = 0.484</text>\n<text text-anchor=\"middle\" x=\"1539.5\" y=\"-141.8\" font-family=\"Times,serif\" font-size=\"14.00\" fill=\"#000000\">samples = 51</text>\n<text text-anchor=\"middle\" x=\"1539.5\" y=\"-126.8\" font-family=\"Times,serif\" font-size=\"14.00\" fill=\"#000000\">value = [21, 30]</text>\n<text text-anchor=\"middle\" x=\"1539.5\" y=\"-111.8\" font-family=\"Times,serif\" font-size=\"14.00\" fill=\"#000000\">class = 1</text>\n</g>\n<!-- 23&#45;&gt;27 -->\n<g id=\"edge27\" class=\"edge\">\n<title>23&#45;&gt;27</title>\n<path fill=\"none\" stroke=\"#000000\" d=\"M1405.5488,-222.8796C1422.6415,-213.0056 1440.9879,-202.4075 1458.4514,-192.3193\"/>\n<polygon fill=\"#000000\" stroke=\"#000000\" points=\"1460.5836,-195.1297 1467.4919,-187.0969 1457.0821,-189.0684 1460.5836,-195.1297\"/>\n</g>\n<!-- 25 -->\n<g id=\"node26\" class=\"node\">\n<title>25</title>\n<polygon fill=\"#e9965a\" stroke=\"#000000\" points=\"1330.5,-68 1228.5,-68 1228.5,0 1330.5,0 1330.5,-68\"/>\n<text text-anchor=\"middle\" x=\"1279.5\" y=\"-52.8\" font-family=\"Times,serif\" font-size=\"14.00\" fill=\"#000000\">gini = 0.245</text>\n<text text-anchor=\"middle\" x=\"1279.5\" y=\"-37.8\" font-family=\"Times,serif\" font-size=\"14.00\" fill=\"#000000\">samples = 21</text>\n<text text-anchor=\"middle\" x=\"1279.5\" y=\"-22.8\" font-family=\"Times,serif\" font-size=\"14.00\" fill=\"#000000\">value = [18, 3]</text>\n<text text-anchor=\"middle\" x=\"1279.5\" y=\"-7.8\" font-family=\"Times,serif\" font-size=\"14.00\" fill=\"#000000\">class = 0</text>\n</g>\n<!-- 24&#45;&gt;25 -->\n<g id=\"edge25\" class=\"edge\">\n<title>24&#45;&gt;25</title>\n<path fill=\"none\" stroke=\"#000000\" d=\"M1313.3924,-103.9815C1309.2084,-95.3423 1304.7877,-86.2144 1300.5701,-77.5059\"/>\n<polygon fill=\"#000000\" stroke=\"#000000\" points=\"1303.6029,-75.7382 1296.0941,-68.2637 1297.3029,-78.7893 1303.6029,-75.7382\"/>\n</g>\n<!-- 26 -->\n<g id=\"node27\" class=\"node\">\n<title>26</title>\n<polygon fill=\"#399de5\" stroke=\"#000000\" points=\"1444,-68 1349,-68 1349,0 1444,0 1444,-68\"/>\n<text text-anchor=\"middle\" x=\"1396.5\" y=\"-52.8\" font-family=\"Times,serif\" font-size=\"14.00\" fill=\"#000000\">gini = 0.0</text>\n<text text-anchor=\"middle\" x=\"1396.5\" y=\"-37.8\" font-family=\"Times,serif\" font-size=\"14.00\" fill=\"#000000\">samples = 3</text>\n<text text-anchor=\"middle\" x=\"1396.5\" y=\"-22.8\" font-family=\"Times,serif\" font-size=\"14.00\" fill=\"#000000\">value = [0, 3]</text>\n<text text-anchor=\"middle\" x=\"1396.5\" y=\"-7.8\" font-family=\"Times,serif\" font-size=\"14.00\" fill=\"#000000\">class = 1</text>\n</g>\n<!-- 24&#45;&gt;26 -->\n<g id=\"edge26\" class=\"edge\">\n<title>24&#45;&gt;26</title>\n<path fill=\"none\" stroke=\"#000000\" d=\"M1356.9589,-103.9815C1361.8922,-95.2504 1367.1074,-86.0202 1372.0752,-77.2281\"/>\n<polygon fill=\"#000000\" stroke=\"#000000\" points=\"1375.2681,-78.6918 1377.1403,-68.2637 1369.1737,-75.2483 1375.2681,-78.6918\"/>\n</g>\n<!-- 28 -->\n<g id=\"node29\" class=\"node\">\n<title>28</title>\n<polygon fill=\"#f3c7a7\" stroke=\"#000000\" points=\"1572.5,-68 1462.5,-68 1462.5,0 1572.5,0 1572.5,-68\"/>\n<text text-anchor=\"middle\" x=\"1517.5\" y=\"-52.8\" font-family=\"Times,serif\" font-size=\"14.00\" fill=\"#000000\">gini = 0.459</text>\n<text text-anchor=\"middle\" x=\"1517.5\" y=\"-37.8\" font-family=\"Times,serif\" font-size=\"14.00\" fill=\"#000000\">samples = 28</text>\n<text text-anchor=\"middle\" x=\"1517.5\" y=\"-22.8\" font-family=\"Times,serif\" font-size=\"14.00\" fill=\"#000000\">value = [18, 10]</text>\n<text text-anchor=\"middle\" x=\"1517.5\" y=\"-7.8\" font-family=\"Times,serif\" font-size=\"14.00\" fill=\"#000000\">class = 0</text>\n</g>\n<!-- 27&#45;&gt;28 -->\n<g id=\"edge28\" class=\"edge\">\n<title>27&#45;&gt;28</title>\n<path fill=\"none\" stroke=\"#000000\" d=\"M1531.308,-103.9815C1529.6578,-95.618 1527.9173,-86.7965 1526.2489,-78.3409\"/>\n<polygon fill=\"#000000\" stroke=\"#000000\" points=\"1529.6302,-77.397 1524.2605,-68.2637 1522.7626,-78.7521 1529.6302,-77.397\"/>\n</g>\n<!-- 29 -->\n<g id=\"node30\" class=\"node\">\n<title>29</title>\n<polygon fill=\"#57ace9\" stroke=\"#000000\" points=\"1692.5,-68 1590.5,-68 1590.5,0 1692.5,0 1692.5,-68\"/>\n<text text-anchor=\"middle\" x=\"1641.5\" y=\"-52.8\" font-family=\"Times,serif\" font-size=\"14.00\" fill=\"#000000\">gini = 0.227</text>\n<text text-anchor=\"middle\" x=\"1641.5\" y=\"-37.8\" font-family=\"Times,serif\" font-size=\"14.00\" fill=\"#000000\">samples = 23</text>\n<text text-anchor=\"middle\" x=\"1641.5\" y=\"-22.8\" font-family=\"Times,serif\" font-size=\"14.00\" fill=\"#000000\">value = [3, 20]</text>\n<text text-anchor=\"middle\" x=\"1641.5\" y=\"-7.8\" font-family=\"Times,serif\" font-size=\"14.00\" fill=\"#000000\">class = 1</text>\n</g>\n<!-- 27&#45;&gt;29 -->\n<g id=\"edge29\" class=\"edge\">\n<title>27&#45;&gt;29</title>\n<path fill=\"none\" stroke=\"#000000\" d=\"M1577.481,-103.9815C1585.8886,-94.7908 1594.8021,-85.0472 1603.2215,-75.8436\"/>\n<polygon fill=\"#000000\" stroke=\"#000000\" points=\"1605.9883,-78.0045 1610.1557,-68.2637 1600.8234,-73.2797 1605.9883,-78.0045\"/>\n</g>\n<!-- 31 -->\n<g id=\"node32\" class=\"node\">\n<title>31</title>\n<polygon fill=\"#79bced\" stroke=\"#000000\" points=\"2071,-425 1938,-425 1938,-342 2071,-342 2071,-425\"/>\n<text text-anchor=\"middle\" x=\"2004.5\" y=\"-409.8\" font-family=\"Times,serif\" font-size=\"14.00\" fill=\"#000000\">Age (years) &lt;= 22.5</text>\n<text text-anchor=\"middle\" x=\"2004.5\" y=\"-394.8\" font-family=\"Times,serif\" font-size=\"14.00\" fill=\"#000000\">gini = 0.368</text>\n<text text-anchor=\"middle\" x=\"2004.5\" y=\"-379.8\" font-family=\"Times,serif\" font-size=\"14.00\" fill=\"#000000\">samples = 280</text>\n<text text-anchor=\"middle\" x=\"2004.5\" y=\"-364.8\" font-family=\"Times,serif\" font-size=\"14.00\" fill=\"#000000\">value = [68, 212]</text>\n<text text-anchor=\"middle\" x=\"2004.5\" y=\"-349.8\" font-family=\"Times,serif\" font-size=\"14.00\" fill=\"#000000\">class = 1</text>\n</g>\n<!-- 30&#45;&gt;31 -->\n<g id=\"edge31\" class=\"edge\">\n<title>30&#45;&gt;31</title>\n<path fill=\"none\" stroke=\"#000000\" d=\"M2004.5,-460.8796C2004.5,-452.6838 2004.5,-443.9891 2004.5,-435.5013\"/>\n<polygon fill=\"#000000\" stroke=\"#000000\" points=\"2008.0001,-435.298 2004.5,-425.2981 2001.0001,-435.2981 2008.0001,-435.298\"/>\n</g>\n<!-- 44 -->\n<g id=\"node45\" class=\"node\">\n<title>44</title>\n<polygon fill=\"#f6fbfe\" stroke=\"#000000\" points=\"2624.5,-425 2388.5,-425 2388.5,-342 2624.5,-342 2624.5,-425\"/>\n<text text-anchor=\"middle\" x=\"2506.5\" y=\"-409.8\" font-family=\"Times,serif\" font-size=\"14.00\" fill=\"#000000\">Length of current employment &lt;= 3.5</text>\n<text text-anchor=\"middle\" x=\"2506.5\" y=\"-394.8\" font-family=\"Times,serif\" font-size=\"14.00\" fill=\"#000000\">gini = 0.5</text>\n<text text-anchor=\"middle\" x=\"2506.5\" y=\"-379.8\" font-family=\"Times,serif\" font-size=\"14.00\" fill=\"#000000\">samples = 88</text>\n<text text-anchor=\"middle\" x=\"2506.5\" y=\"-364.8\" font-family=\"Times,serif\" font-size=\"14.00\" fill=\"#000000\">value = [43, 45]</text>\n<text text-anchor=\"middle\" x=\"2506.5\" y=\"-349.8\" font-family=\"Times,serif\" font-size=\"14.00\" fill=\"#000000\">class = 1</text>\n</g>\n<!-- 30&#45;&gt;44 -->\n<g id=\"edge44\" class=\"edge\">\n<title>30&#45;&gt;44</title>\n<path fill=\"none\" stroke=\"#000000\" d=\"M2088.5235,-482.5821C2167.6985,-463.8135 2287.4409,-435.4284 2378.4966,-413.8434\"/>\n<polygon fill=\"#000000\" stroke=\"#000000\" points=\"2379.4094,-417.2241 2388.3324,-411.5118 2377.7947,-410.4129 2379.4094,-417.2241\"/>\n</g>\n<!-- 32 -->\n<g id=\"node33\" class=\"node\">\n<title>32</title>\n<polygon fill=\"#efb388\" stroke=\"#000000\" points=\"1999,-306 1816,-306 1816,-223 1999,-223 1999,-306\"/>\n<text text-anchor=\"middle\" x=\"1907.5\" y=\"-290.8\" font-family=\"Times,serif\" font-size=\"14.00\" fill=\"#000000\">Value Savings/Stocks &lt;= 1.5</text>\n<text text-anchor=\"middle\" x=\"1907.5\" y=\"-275.8\" font-family=\"Times,serif\" font-size=\"14.00\" fill=\"#000000\">gini = 0.408</text>\n<text text-anchor=\"middle\" x=\"1907.5\" y=\"-260.8\" font-family=\"Times,serif\" font-size=\"14.00\" fill=\"#000000\">samples = 21</text>\n<text text-anchor=\"middle\" x=\"1907.5\" y=\"-245.8\" font-family=\"Times,serif\" font-size=\"14.00\" fill=\"#000000\">value = [15, 6]</text>\n<text text-anchor=\"middle\" x=\"1907.5\" y=\"-230.8\" font-family=\"Times,serif\" font-size=\"14.00\" fill=\"#000000\">class = 0</text>\n</g>\n<!-- 31&#45;&gt;32 -->\n<g id=\"edge32\" class=\"edge\">\n<title>31&#45;&gt;32</title>\n<path fill=\"none\" stroke=\"#000000\" d=\"M1970.5741,-341.8796C1963.3062,-332.9633 1955.557,-323.4565 1948.0672,-314.268\"/>\n<polygon fill=\"#000000\" stroke=\"#000000\" points=\"1950.6018,-311.8379 1941.5707,-306.2981 1945.176,-316.2606 1950.6018,-311.8379\"/>\n</g>\n<!-- 37 -->\n<g id=\"node38\" class=\"node\">\n<title>37</title>\n<polygon fill=\"#6cb6ec\" stroke=\"#000000\" points=\"2164,-306 2039,-306 2039,-223 2164,-223 2164,-306\"/>\n<text text-anchor=\"middle\" x=\"2101.5\" y=\"-290.8\" font-family=\"Times,serif\" font-size=\"14.00\" fill=\"#000000\">Occupation &lt;= 2.5</text>\n<text text-anchor=\"middle\" x=\"2101.5\" y=\"-275.8\" font-family=\"Times,serif\" font-size=\"14.00\" fill=\"#000000\">gini = 0.326</text>\n<text text-anchor=\"middle\" x=\"2101.5\" y=\"-260.8\" font-family=\"Times,serif\" font-size=\"14.00\" fill=\"#000000\">samples = 259</text>\n<text text-anchor=\"middle\" x=\"2101.5\" y=\"-245.8\" font-family=\"Times,serif\" font-size=\"14.00\" fill=\"#000000\">value = [53, 206]</text>\n<text text-anchor=\"middle\" x=\"2101.5\" y=\"-230.8\" font-family=\"Times,serif\" font-size=\"14.00\" fill=\"#000000\">class = 1</text>\n</g>\n<!-- 31&#45;&gt;37 -->\n<g id=\"edge37\" class=\"edge\">\n<title>31&#45;&gt;37</title>\n<path fill=\"none\" stroke=\"#000000\" d=\"M2038.4259,-341.8796C2045.6938,-332.9633 2053.443,-323.4565 2060.9328,-314.268\"/>\n<polygon fill=\"#000000\" stroke=\"#000000\" points=\"2063.824,-316.2606 2067.4293,-306.2981 2058.3982,-311.8379 2063.824,-316.2606\"/>\n</g>\n<!-- 33 -->\n<g id=\"node34\" class=\"node\">\n<title>33</title>\n<polygon fill=\"#ea9a61\" stroke=\"#000000\" points=\"1842,-187 1675,-187 1675,-104 1842,-104 1842,-187\"/>\n<text text-anchor=\"middle\" x=\"1758.5\" y=\"-171.8\" font-family=\"Times,serif\" font-size=\"14.00\" fill=\"#000000\">Instalment per cent &lt;= 1.5</text>\n<text text-anchor=\"middle\" x=\"1758.5\" y=\"-156.8\" font-family=\"Times,serif\" font-size=\"14.00\" fill=\"#000000\">gini = 0.278</text>\n<text text-anchor=\"middle\" x=\"1758.5\" y=\"-141.8\" font-family=\"Times,serif\" font-size=\"14.00\" fill=\"#000000\">samples = 18</text>\n<text text-anchor=\"middle\" x=\"1758.5\" y=\"-126.8\" font-family=\"Times,serif\" font-size=\"14.00\" fill=\"#000000\">value = [15, 3]</text>\n<text text-anchor=\"middle\" x=\"1758.5\" y=\"-111.8\" font-family=\"Times,serif\" font-size=\"14.00\" fill=\"#000000\">class = 0</text>\n</g>\n<!-- 32&#45;&gt;33 -->\n<g id=\"edge33\" class=\"edge\">\n<title>32&#45;&gt;33</title>\n<path fill=\"none\" stroke=\"#000000\" d=\"M1855.387,-222.8796C1843.4775,-213.368 1830.7266,-203.1843 1818.5156,-193.432\"/>\n<polygon fill=\"#000000\" stroke=\"#000000\" points=\"1820.5816,-190.6027 1810.5835,-187.0969 1816.2132,-196.0724 1820.5816,-190.6027\"/>\n</g>\n<!-- 36 -->\n<g id=\"node37\" class=\"node\">\n<title>36</title>\n<polygon fill=\"#399de5\" stroke=\"#000000\" points=\"1955,-179.5 1860,-179.5 1860,-111.5 1955,-111.5 1955,-179.5\"/>\n<text text-anchor=\"middle\" x=\"1907.5\" y=\"-164.3\" font-family=\"Times,serif\" font-size=\"14.00\" fill=\"#000000\">gini = 0.0</text>\n<text text-anchor=\"middle\" x=\"1907.5\" y=\"-149.3\" font-family=\"Times,serif\" font-size=\"14.00\" fill=\"#000000\">samples = 3</text>\n<text text-anchor=\"middle\" x=\"1907.5\" y=\"-134.3\" font-family=\"Times,serif\" font-size=\"14.00\" fill=\"#000000\">value = [0, 3]</text>\n<text text-anchor=\"middle\" x=\"1907.5\" y=\"-119.3\" font-family=\"Times,serif\" font-size=\"14.00\" fill=\"#000000\">class = 1</text>\n</g>\n<!-- 32&#45;&gt;36 -->\n<g id=\"edge36\" class=\"edge\">\n<title>32&#45;&gt;36</title>\n<path fill=\"none\" stroke=\"#000000\" d=\"M1907.5,-222.8796C1907.5,-212.2134 1907.5,-200.7021 1907.5,-189.9015\"/>\n<polygon fill=\"#000000\" stroke=\"#000000\" points=\"1911.0001,-189.8149 1907.5,-179.8149 1904.0001,-189.815 1911.0001,-189.8149\"/>\n</g>\n<!-- 34 -->\n<g id=\"node35\" class=\"node\">\n<title>34</title>\n<polygon fill=\"#399de5\" stroke=\"#000000\" points=\"1806,-68 1711,-68 1711,0 1806,0 1806,-68\"/>\n<text text-anchor=\"middle\" x=\"1758.5\" y=\"-52.8\" font-family=\"Times,serif\" font-size=\"14.00\" fill=\"#000000\">gini = 0.0</text>\n<text text-anchor=\"middle\" x=\"1758.5\" y=\"-37.8\" font-family=\"Times,serif\" font-size=\"14.00\" fill=\"#000000\">samples = 2</text>\n<text text-anchor=\"middle\" x=\"1758.5\" y=\"-22.8\" font-family=\"Times,serif\" font-size=\"14.00\" fill=\"#000000\">value = [0, 2]</text>\n<text text-anchor=\"middle\" x=\"1758.5\" y=\"-7.8\" font-family=\"Times,serif\" font-size=\"14.00\" fill=\"#000000\">class = 1</text>\n</g>\n<!-- 33&#45;&gt;34 -->\n<g id=\"edge34\" class=\"edge\">\n<title>33&#45;&gt;34</title>\n<path fill=\"none\" stroke=\"#000000\" d=\"M1758.5,-103.9815C1758.5,-95.618 1758.5,-86.7965 1758.5,-78.3409\"/>\n<polygon fill=\"#000000\" stroke=\"#000000\" points=\"1762.0001,-78.2636 1758.5,-68.2637 1755.0001,-78.2637 1762.0001,-78.2636\"/>\n</g>\n<!-- 35 -->\n<g id=\"node36\" class=\"node\">\n<title>35</title>\n<polygon fill=\"#e78946\" stroke=\"#000000\" points=\"1926.5,-68 1824.5,-68 1824.5,0 1926.5,0 1926.5,-68\"/>\n<text text-anchor=\"middle\" x=\"1875.5\" y=\"-52.8\" font-family=\"Times,serif\" font-size=\"14.00\" fill=\"#000000\">gini = 0.117</text>\n<text text-anchor=\"middle\" x=\"1875.5\" y=\"-37.8\" font-family=\"Times,serif\" font-size=\"14.00\" fill=\"#000000\">samples = 16</text>\n<text text-anchor=\"middle\" x=\"1875.5\" y=\"-22.8\" font-family=\"Times,serif\" font-size=\"14.00\" fill=\"#000000\">value = [15, 1]</text>\n<text text-anchor=\"middle\" x=\"1875.5\" y=\"-7.8\" font-family=\"Times,serif\" font-size=\"14.00\" fill=\"#000000\">class = 0</text>\n</g>\n<!-- 33&#45;&gt;35 -->\n<g id=\"edge35\" class=\"edge\">\n<title>33&#45;&gt;35</title>\n<path fill=\"none\" stroke=\"#000000\" d=\"M1802.0665,-103.9815C1811.9034,-94.607 1822.344,-84.6572 1832.1711,-75.2921\"/>\n<polygon fill=\"#000000\" stroke=\"#000000\" points=\"1834.7216,-77.6963 1839.5462,-68.2637 1829.8924,-72.6289 1834.7216,-77.6963\"/>\n</g>\n<!-- 38 -->\n<g id=\"node39\" class=\"node\">\n<title>38</title>\n<polygon fill=\"#cfe7f9\" stroke=\"#000000\" points=\"2230,-187 1973,-187 1973,-104 2230,-104 2230,-187\"/>\n<text text-anchor=\"middle\" x=\"2101.5\" y=\"-171.8\" font-family=\"Times,serif\" font-size=\"14.00\" fill=\"#000000\">Payment Status of Previous Credit &lt;= 3.5</text>\n<text text-anchor=\"middle\" x=\"2101.5\" y=\"-156.8\" font-family=\"Times,serif\" font-size=\"14.00\" fill=\"#000000\">gini = 0.49</text>\n<text text-anchor=\"middle\" x=\"2101.5\" y=\"-141.8\" font-family=\"Times,serif\" font-size=\"14.00\" fill=\"#000000\">samples = 65</text>\n<text text-anchor=\"middle\" x=\"2101.5\" y=\"-126.8\" font-family=\"Times,serif\" font-size=\"14.00\" fill=\"#000000\">value = [28, 37]</text>\n<text text-anchor=\"middle\" x=\"2101.5\" y=\"-111.8\" font-family=\"Times,serif\" font-size=\"14.00\" fill=\"#000000\">class = 1</text>\n</g>\n<!-- 37&#45;&gt;38 -->\n<g id=\"edge38\" class=\"edge\">\n<title>37&#45;&gt;38</title>\n<path fill=\"none\" stroke=\"#000000\" d=\"M2101.5,-222.8796C2101.5,-214.6838 2101.5,-205.9891 2101.5,-197.5013\"/>\n<polygon fill=\"#000000\" stroke=\"#000000\" points=\"2105.0001,-197.298 2101.5,-187.2981 2098.0001,-197.2981 2105.0001,-197.298\"/>\n</g>\n<!-- 41 -->\n<g id=\"node42\" class=\"node\">\n<title>41</title>\n<polygon fill=\"#56abe9\" stroke=\"#000000\" points=\"2416.5,-187 2248.5,-187 2248.5,-104 2416.5,-104 2416.5,-187\"/>\n<text text-anchor=\"middle\" x=\"2332.5\" y=\"-171.8\" font-family=\"Times,serif\" font-size=\"14.00\" fill=\"#000000\">Concurrent Credits &lt;= 2.5</text>\n<text text-anchor=\"middle\" x=\"2332.5\" y=\"-156.8\" font-family=\"Times,serif\" font-size=\"14.00\" fill=\"#000000\">gini = 0.225</text>\n<text text-anchor=\"middle\" x=\"2332.5\" y=\"-141.8\" font-family=\"Times,serif\" font-size=\"14.00\" fill=\"#000000\">samples = 194</text>\n<text text-anchor=\"middle\" x=\"2332.5\" y=\"-126.8\" font-family=\"Times,serif\" font-size=\"14.00\" fill=\"#000000\">value = [25, 169]</text>\n<text text-anchor=\"middle\" x=\"2332.5\" y=\"-111.8\" font-family=\"Times,serif\" font-size=\"14.00\" fill=\"#000000\">class = 1</text>\n</g>\n<!-- 37&#45;&gt;41 -->\n<g id=\"edge41\" class=\"edge\">\n<title>37&#45;&gt;41</title>\n<path fill=\"none\" stroke=\"#000000\" d=\"M2164.0119,-232.2969C2188.1558,-219.8591 2216.2436,-205.3897 2242.4844,-191.8717\"/>\n<polygon fill=\"#000000\" stroke=\"#000000\" points=\"2244.3926,-194.8258 2251.6795,-187.1348 2241.1869,-188.603 2244.3926,-194.8258\"/>\n</g>\n<!-- 39 -->\n<g id=\"node40\" class=\"node\">\n<title>39</title>\n<polygon fill=\"#f9e1cf\" stroke=\"#000000\" points=\"2076.5,-68 1966.5,-68 1966.5,0 2076.5,0 2076.5,-68\"/>\n<text text-anchor=\"middle\" x=\"2021.5\" y=\"-52.8\" font-family=\"Times,serif\" font-size=\"14.00\" fill=\"#000000\">gini = 0.491</text>\n<text text-anchor=\"middle\" x=\"2021.5\" y=\"-37.8\" font-family=\"Times,serif\" font-size=\"14.00\" fill=\"#000000\">samples = 44</text>\n<text text-anchor=\"middle\" x=\"2021.5\" y=\"-22.8\" font-family=\"Times,serif\" font-size=\"14.00\" fill=\"#000000\">value = [25, 19]</text>\n<text text-anchor=\"middle\" x=\"2021.5\" y=\"-7.8\" font-family=\"Times,serif\" font-size=\"14.00\" fill=\"#000000\">class = 0</text>\n</g>\n<!-- 38&#45;&gt;39 -->\n<g id=\"edge39\" class=\"edge\">\n<title>38&#45;&gt;39</title>\n<path fill=\"none\" stroke=\"#000000\" d=\"M2071.711,-103.9815C2065.2486,-94.9747 2058.4052,-85.4367 2051.919,-76.3965\"/>\n<polygon fill=\"#000000\" stroke=\"#000000\" points=\"2054.7572,-74.3483 2046.0838,-68.2637 2049.0697,-78.4291 2054.7572,-74.3483\"/>\n</g>\n<!-- 40 -->\n<g id=\"node41\" class=\"node\">\n<title>40</title>\n<polygon fill=\"#5aade9\" stroke=\"#000000\" points=\"2196.5,-68 2094.5,-68 2094.5,0 2196.5,0 2196.5,-68\"/>\n<text text-anchor=\"middle\" x=\"2145.5\" y=\"-52.8\" font-family=\"Times,serif\" font-size=\"14.00\" fill=\"#000000\">gini = 0.245</text>\n<text text-anchor=\"middle\" x=\"2145.5\" y=\"-37.8\" font-family=\"Times,serif\" font-size=\"14.00\" fill=\"#000000\">samples = 21</text>\n<text text-anchor=\"middle\" x=\"2145.5\" y=\"-22.8\" font-family=\"Times,serif\" font-size=\"14.00\" fill=\"#000000\">value = [3, 18]</text>\n<text text-anchor=\"middle\" x=\"2145.5\" y=\"-7.8\" font-family=\"Times,serif\" font-size=\"14.00\" fill=\"#000000\">class = 1</text>\n</g>\n<!-- 38&#45;&gt;40 -->\n<g id=\"edge40\" class=\"edge\">\n<title>38&#45;&gt;40</title>\n<path fill=\"none\" stroke=\"#000000\" d=\"M2117.884,-103.9815C2121.2569,-95.4342 2124.8186,-86.4086 2128.222,-77.7839\"/>\n<polygon fill=\"#000000\" stroke=\"#000000\" points=\"2131.5638,-78.8504 2131.9789,-68.2637 2125.0525,-76.2808 2131.5638,-78.8504\"/>\n</g>\n<!-- 42 -->\n<g id=\"node43\" class=\"node\">\n<title>42</title>\n<polygon fill=\"#a1d0f3\" stroke=\"#000000\" points=\"2366,-68 2257,-68 2257,0 2366,0 2366,-68\"/>\n<text text-anchor=\"middle\" x=\"2311.5\" y=\"-52.8\" font-family=\"Times,serif\" font-size=\"14.00\" fill=\"#000000\">gini = 0.451</text>\n<text text-anchor=\"middle\" x=\"2311.5\" y=\"-37.8\" font-family=\"Times,serif\" font-size=\"14.00\" fill=\"#000000\">samples = 32</text>\n<text text-anchor=\"middle\" x=\"2311.5\" y=\"-22.8\" font-family=\"Times,serif\" font-size=\"14.00\" fill=\"#000000\">value = [11, 21]</text>\n<text text-anchor=\"middle\" x=\"2311.5\" y=\"-7.8\" font-family=\"Times,serif\" font-size=\"14.00\" fill=\"#000000\">class = 1</text>\n</g>\n<!-- 41&#45;&gt;42 -->\n<g id=\"edge42\" class=\"edge\">\n<title>41&#45;&gt;42</title>\n<path fill=\"none\" stroke=\"#000000\" d=\"M2324.6804,-103.9815C2323.1052,-95.618 2321.4437,-86.7965 2319.8512,-78.3409\"/>\n<polygon fill=\"#000000\" stroke=\"#000000\" points=\"2323.2437,-77.4431 2317.9532,-68.2637 2316.3647,-78.7387 2323.2437,-77.4431\"/>\n</g>\n<!-- 43 -->\n<g id=\"node44\" class=\"node\">\n<title>43</title>\n<polygon fill=\"#4ca6e7\" stroke=\"#000000\" points=\"2501,-68 2384,-68 2384,0 2501,0 2501,-68\"/>\n<text text-anchor=\"middle\" x=\"2442.5\" y=\"-52.8\" font-family=\"Times,serif\" font-size=\"14.00\" fill=\"#000000\">gini = 0.158</text>\n<text text-anchor=\"middle\" x=\"2442.5\" y=\"-37.8\" font-family=\"Times,serif\" font-size=\"14.00\" fill=\"#000000\">samples = 162</text>\n<text text-anchor=\"middle\" x=\"2442.5\" y=\"-22.8\" font-family=\"Times,serif\" font-size=\"14.00\" fill=\"#000000\">value = [14, 148]</text>\n<text text-anchor=\"middle\" x=\"2442.5\" y=\"-7.8\" font-family=\"Times,serif\" font-size=\"14.00\" fill=\"#000000\">class = 1</text>\n</g>\n<!-- 41&#45;&gt;43 -->\n<g id=\"edge43\" class=\"edge\">\n<title>41&#45;&gt;43</title>\n<path fill=\"none\" stroke=\"#000000\" d=\"M2373.4599,-103.9815C2382.6176,-94.6989 2392.3319,-84.8522 2401.4915,-75.5677\"/>\n<polygon fill=\"#000000\" stroke=\"#000000\" points=\"2404.1658,-77.8406 2408.6973,-68.2637 2399.1826,-72.9244 2404.1658,-77.8406\"/>\n</g>\n<!-- 45 -->\n<g id=\"node46\" class=\"node\">\n<title>45</title>\n<polygon fill=\"#f0b58b\" stroke=\"#000000\" points=\"2561.5,-306 2451.5,-306 2451.5,-223 2561.5,-223 2561.5,-306\"/>\n<text text-anchor=\"middle\" x=\"2506.5\" y=\"-290.8\" font-family=\"Times,serif\" font-size=\"14.00\" fill=\"#000000\">Purpose &lt;= 0.5</text>\n<text text-anchor=\"middle\" x=\"2506.5\" y=\"-275.8\" font-family=\"Times,serif\" font-size=\"14.00\" fill=\"#000000\">gini = 0.414</text>\n<text text-anchor=\"middle\" x=\"2506.5\" y=\"-260.8\" font-family=\"Times,serif\" font-size=\"14.00\" fill=\"#000000\">samples = 58</text>\n<text text-anchor=\"middle\" x=\"2506.5\" y=\"-245.8\" font-family=\"Times,serif\" font-size=\"14.00\" fill=\"#000000\">value = [41, 17]</text>\n<text text-anchor=\"middle\" x=\"2506.5\" y=\"-230.8\" font-family=\"Times,serif\" font-size=\"14.00\" fill=\"#000000\">class = 0</text>\n</g>\n<!-- 44&#45;&gt;45 -->\n<g id=\"edge45\" class=\"edge\">\n<title>44&#45;&gt;45</title>\n<path fill=\"none\" stroke=\"#000000\" d=\"M2506.5,-341.8796C2506.5,-333.6838 2506.5,-324.9891 2506.5,-316.5013\"/>\n<polygon fill=\"#000000\" stroke=\"#000000\" points=\"2510.0001,-316.298 2506.5,-306.2981 2503.0001,-316.2981 2510.0001,-316.298\"/>\n</g>\n<!-- 50 -->\n<g id=\"node51\" class=\"node\">\n<title>50</title>\n<polygon fill=\"#47a4e7\" stroke=\"#000000\" points=\"2859,-306 2602,-306 2602,-223 2859,-223 2859,-306\"/>\n<text text-anchor=\"middle\" x=\"2730.5\" y=\"-290.8\" font-family=\"Times,serif\" font-size=\"14.00\" fill=\"#000000\">Payment Status of Previous Credit &lt;= 1.5</text>\n<text text-anchor=\"middle\" x=\"2730.5\" y=\"-275.8\" font-family=\"Times,serif\" font-size=\"14.00\" fill=\"#000000\">gini = 0.124</text>\n<text text-anchor=\"middle\" x=\"2730.5\" y=\"-260.8\" font-family=\"Times,serif\" font-size=\"14.00\" fill=\"#000000\">samples = 30</text>\n<text text-anchor=\"middle\" x=\"2730.5\" y=\"-245.8\" font-family=\"Times,serif\" font-size=\"14.00\" fill=\"#000000\">value = [2, 28]</text>\n<text text-anchor=\"middle\" x=\"2730.5\" y=\"-230.8\" font-family=\"Times,serif\" font-size=\"14.00\" fill=\"#000000\">class = 1</text>\n</g>\n<!-- 44&#45;&gt;50 -->\n<g id=\"edge50\" class=\"edge\">\n<title>44&#45;&gt;50</title>\n<path fill=\"none\" stroke=\"#000000\" d=\"M2584.8443,-341.8796C2603.6864,-331.8697 2623.9294,-321.1156 2643.1529,-310.9031\"/>\n<polygon fill=\"#000000\" stroke=\"#000000\" points=\"2645.0108,-313.8794 2652.1999,-306.0969 2641.7267,-307.6976 2645.0108,-313.8794\"/>\n</g>\n<!-- 46 -->\n<g id=\"node47\" class=\"node\">\n<title>46</title>\n<polygon fill=\"#e58139\" stroke=\"#000000\" points=\"2536,-179.5 2435,-179.5 2435,-111.5 2536,-111.5 2536,-179.5\"/>\n<text text-anchor=\"middle\" x=\"2485.5\" y=\"-164.3\" font-family=\"Times,serif\" font-size=\"14.00\" fill=\"#000000\">gini = 0.0</text>\n<text text-anchor=\"middle\" x=\"2485.5\" y=\"-149.3\" font-family=\"Times,serif\" font-size=\"14.00\" fill=\"#000000\">samples = 11</text>\n<text text-anchor=\"middle\" x=\"2485.5\" y=\"-134.3\" font-family=\"Times,serif\" font-size=\"14.00\" fill=\"#000000\">value = [11, 0]</text>\n<text text-anchor=\"middle\" x=\"2485.5\" y=\"-119.3\" font-family=\"Times,serif\" font-size=\"14.00\" fill=\"#000000\">class = 0</text>\n</g>\n<!-- 45&#45;&gt;46 -->\n<g id=\"edge46\" class=\"edge\">\n<title>45&#45;&gt;46</title>\n<path fill=\"none\" stroke=\"#000000\" d=\"M2499.1552,-222.8796C2497.2729,-212.2134 2495.2415,-200.7021 2493.3356,-189.9015\"/>\n<polygon fill=\"#000000\" stroke=\"#000000\" points=\"2496.7403,-189.0545 2491.5556,-179.8149 2489.8468,-190.2711 2496.7403,-189.0545\"/>\n</g>\n<!-- 47 -->\n<g id=\"node48\" class=\"node\">\n<title>47</title>\n<polygon fill=\"#f4c8a9\" stroke=\"#000000\" points=\"2664.5,-187 2554.5,-187 2554.5,-104 2664.5,-104 2664.5,-187\"/>\n<text text-anchor=\"middle\" x=\"2609.5\" y=\"-171.8\" font-family=\"Times,serif\" font-size=\"14.00\" fill=\"#000000\">Purpose &lt;= 1.5</text>\n<text text-anchor=\"middle\" x=\"2609.5\" y=\"-156.8\" font-family=\"Times,serif\" font-size=\"14.00\" fill=\"#000000\">gini = 0.462</text>\n<text text-anchor=\"middle\" x=\"2609.5\" y=\"-141.8\" font-family=\"Times,serif\" font-size=\"14.00\" fill=\"#000000\">samples = 47</text>\n<text text-anchor=\"middle\" x=\"2609.5\" y=\"-126.8\" font-family=\"Times,serif\" font-size=\"14.00\" fill=\"#000000\">value = [30, 17]</text>\n<text text-anchor=\"middle\" x=\"2609.5\" y=\"-111.8\" font-family=\"Times,serif\" font-size=\"14.00\" fill=\"#000000\">class = 0</text>\n</g>\n<!-- 45&#45;&gt;47 -->\n<g id=\"edge47\" class=\"edge\">\n<title>45&#45;&gt;47</title>\n<path fill=\"none\" stroke=\"#000000\" d=\"M2542.5244,-222.8796C2550.3198,-213.8733 2558.6367,-204.2644 2566.6644,-194.9897\"/>\n<polygon fill=\"#000000\" stroke=\"#000000\" points=\"2569.4237,-197.1498 2573.3218,-187.2981 2564.1309,-192.5686 2569.4237,-197.1498\"/>\n</g>\n<!-- 48 -->\n<g id=\"node49\" class=\"node\">\n<title>48</title>\n<polygon fill=\"#7bbeee\" stroke=\"#000000\" points=\"2636,-68 2541,-68 2541,0 2636,0 2636,-68\"/>\n<text text-anchor=\"middle\" x=\"2588.5\" y=\"-52.8\" font-family=\"Times,serif\" font-size=\"14.00\" fill=\"#000000\">gini = 0.375</text>\n<text text-anchor=\"middle\" x=\"2588.5\" y=\"-37.8\" font-family=\"Times,serif\" font-size=\"14.00\" fill=\"#000000\">samples = 12</text>\n<text text-anchor=\"middle\" x=\"2588.5\" y=\"-22.8\" font-family=\"Times,serif\" font-size=\"14.00\" fill=\"#000000\">value = [3, 9]</text>\n<text text-anchor=\"middle\" x=\"2588.5\" y=\"-7.8\" font-family=\"Times,serif\" font-size=\"14.00\" fill=\"#000000\">class = 1</text>\n</g>\n<!-- 47&#45;&gt;48 -->\n<g id=\"edge48\" class=\"edge\">\n<title>47&#45;&gt;48</title>\n<path fill=\"none\" stroke=\"#000000\" d=\"M2601.6804,-103.9815C2600.1052,-95.618 2598.4437,-86.7965 2596.8512,-78.3409\"/>\n<polygon fill=\"#000000\" stroke=\"#000000\" points=\"2600.2437,-77.4431 2594.9532,-68.2637 2593.3647,-78.7387 2600.2437,-77.4431\"/>\n</g>\n<!-- 49 -->\n<g id=\"node50\" class=\"node\">\n<title>49</title>\n<polygon fill=\"#eda674\" stroke=\"#000000\" points=\"2756.5,-68 2654.5,-68 2654.5,0 2756.5,0 2756.5,-68\"/>\n<text text-anchor=\"middle\" x=\"2705.5\" y=\"-52.8\" font-family=\"Times,serif\" font-size=\"14.00\" fill=\"#000000\">gini = 0.353</text>\n<text text-anchor=\"middle\" x=\"2705.5\" y=\"-37.8\" font-family=\"Times,serif\" font-size=\"14.00\" fill=\"#000000\">samples = 35</text>\n<text text-anchor=\"middle\" x=\"2705.5\" y=\"-22.8\" font-family=\"Times,serif\" font-size=\"14.00\" fill=\"#000000\">value = [27, 8]</text>\n<text text-anchor=\"middle\" x=\"2705.5\" y=\"-7.8\" font-family=\"Times,serif\" font-size=\"14.00\" fill=\"#000000\">class = 0</text>\n</g>\n<!-- 47&#45;&gt;49 -->\n<g id=\"edge49\" class=\"edge\">\n<title>47&#45;&gt;49</title>\n<path fill=\"none\" stroke=\"#000000\" d=\"M2645.2469,-103.9815C2653.1599,-94.7908 2661.5491,-85.0472 2669.4732,-75.8436\"/>\n<polygon fill=\"#000000\" stroke=\"#000000\" points=\"2672.1271,-78.1255 2675.9994,-68.2637 2666.8224,-73.5582 2672.1271,-78.1255\"/>\n</g>\n<!-- 51 -->\n<g id=\"node52\" class=\"node\">\n<title>51</title>\n<polygon fill=\"#e58139\" stroke=\"#000000\" points=\"2778,-179.5 2683,-179.5 2683,-111.5 2778,-111.5 2778,-179.5\"/>\n<text text-anchor=\"middle\" x=\"2730.5\" y=\"-164.3\" font-family=\"Times,serif\" font-size=\"14.00\" fill=\"#000000\">gini = 0.0</text>\n<text text-anchor=\"middle\" x=\"2730.5\" y=\"-149.3\" font-family=\"Times,serif\" font-size=\"14.00\" fill=\"#000000\">samples = 1</text>\n<text text-anchor=\"middle\" x=\"2730.5\" y=\"-134.3\" font-family=\"Times,serif\" font-size=\"14.00\" fill=\"#000000\">value = [1, 0]</text>\n<text text-anchor=\"middle\" x=\"2730.5\" y=\"-119.3\" font-family=\"Times,serif\" font-size=\"14.00\" fill=\"#000000\">class = 0</text>\n</g>\n<!-- 50&#45;&gt;51 -->\n<g id=\"edge51\" class=\"edge\">\n<title>50&#45;&gt;51</title>\n<path fill=\"none\" stroke=\"#000000\" d=\"M2730.5,-222.8796C2730.5,-212.2134 2730.5,-200.7021 2730.5,-189.9015\"/>\n<polygon fill=\"#000000\" stroke=\"#000000\" points=\"2734.0001,-189.8149 2730.5,-179.8149 2727.0001,-189.815 2734.0001,-189.8149\"/>\n</g>\n<!-- 52 -->\n<g id=\"node53\" class=\"node\">\n<title>52</title>\n<polygon fill=\"#40a0e6\" stroke=\"#000000\" points=\"2971,-187 2796,-187 2796,-104 2971,-104 2971,-187\"/>\n<text text-anchor=\"middle\" x=\"2883.5\" y=\"-171.8\" font-family=\"Times,serif\" font-size=\"14.00\" fill=\"#000000\">Credit Amount &lt;= 11578.5</text>\n<text text-anchor=\"middle\" x=\"2883.5\" y=\"-156.8\" font-family=\"Times,serif\" font-size=\"14.00\" fill=\"#000000\">gini = 0.067</text>\n<text text-anchor=\"middle\" x=\"2883.5\" y=\"-141.8\" font-family=\"Times,serif\" font-size=\"14.00\" fill=\"#000000\">samples = 29</text>\n<text text-anchor=\"middle\" x=\"2883.5\" y=\"-126.8\" font-family=\"Times,serif\" font-size=\"14.00\" fill=\"#000000\">value = [1, 28]</text>\n<text text-anchor=\"middle\" x=\"2883.5\" y=\"-111.8\" font-family=\"Times,serif\" font-size=\"14.00\" fill=\"#000000\">class = 1</text>\n</g>\n<!-- 50&#45;&gt;52 -->\n<g id=\"edge52\" class=\"edge\">\n<title>50&#45;&gt;52</title>\n<path fill=\"none\" stroke=\"#000000\" d=\"M2784.012,-222.8796C2796.2412,-213.368 2809.3344,-203.1843 2821.8732,-193.432\"/>\n<polygon fill=\"#000000\" stroke=\"#000000\" points=\"2824.2735,-195.9991 2830.0182,-187.0969 2819.9759,-190.4736 2824.2735,-195.9991\"/>\n</g>\n<!-- 53 -->\n<g id=\"node54\" class=\"node\">\n<title>53</title>\n<polygon fill=\"#399de5\" stroke=\"#000000\" points=\"2905.5,-68 2803.5,-68 2803.5,0 2905.5,0 2905.5,-68\"/>\n<text text-anchor=\"middle\" x=\"2854.5\" y=\"-52.8\" font-family=\"Times,serif\" font-size=\"14.00\" fill=\"#000000\">gini = 0.0</text>\n<text text-anchor=\"middle\" x=\"2854.5\" y=\"-37.8\" font-family=\"Times,serif\" font-size=\"14.00\" fill=\"#000000\">samples = 27</text>\n<text text-anchor=\"middle\" x=\"2854.5\" y=\"-22.8\" font-family=\"Times,serif\" font-size=\"14.00\" fill=\"#000000\">value = [0, 27]</text>\n<text text-anchor=\"middle\" x=\"2854.5\" y=\"-7.8\" font-family=\"Times,serif\" font-size=\"14.00\" fill=\"#000000\">class = 1</text>\n</g>\n<!-- 52&#45;&gt;53 -->\n<g id=\"edge53\" class=\"edge\">\n<title>52&#45;&gt;53</title>\n<path fill=\"none\" stroke=\"#000000\" d=\"M2872.7015,-103.9815C2870.5023,-95.5261 2868.1814,-86.6026 2865.9601,-78.0623\"/>\n<polygon fill=\"#000000\" stroke=\"#000000\" points=\"2869.3162,-77.0607 2863.4116,-68.2637 2862.5415,-78.8227 2869.3162,-77.0607\"/>\n</g>\n<!-- 54 -->\n<g id=\"node55\" class=\"node\">\n<title>54</title>\n<polygon fill=\"#ffffff\" stroke=\"#000000\" points=\"3019,-68 2924,-68 2924,0 3019,0 3019,-68\"/>\n<text text-anchor=\"middle\" x=\"2971.5\" y=\"-52.8\" font-family=\"Times,serif\" font-size=\"14.00\" fill=\"#000000\">gini = 0.5</text>\n<text text-anchor=\"middle\" x=\"2971.5\" y=\"-37.8\" font-family=\"Times,serif\" font-size=\"14.00\" fill=\"#000000\">samples = 2</text>\n<text text-anchor=\"middle\" x=\"2971.5\" y=\"-22.8\" font-family=\"Times,serif\" font-size=\"14.00\" fill=\"#000000\">value = [1, 1]</text>\n<text text-anchor=\"middle\" x=\"2971.5\" y=\"-7.8\" font-family=\"Times,serif\" font-size=\"14.00\" fill=\"#000000\">class = 0</text>\n</g>\n<!-- 52&#45;&gt;54 -->\n<g id=\"edge54\" class=\"edge\">\n<title>52&#45;&gt;54</title>\n<path fill=\"none\" stroke=\"#000000\" d=\"M2916.268,-103.9815C2923.449,-94.8828 2931.0579,-85.242 2938.2574,-76.1199\"/>\n<polygon fill=\"#000000\" stroke=\"#000000\" points=\"2941.0099,-78.2818 2944.4578,-68.2637 2935.5151,-73.9451 2941.0099,-78.2818\"/>\n</g>\n</g>\n</svg>\n"
          },
          "metadata": {
            "tags": []
          },
          "execution_count": 100
        }
      ]
    },
    {
      "cell_type": "code",
      "metadata": {
        "id": "9PL7LSCKYyVy"
      },
      "source": [
        "# Let's make the prdictions on the test set  that we set aside earlier using the trained tree\n",
        "y_pred = clf.predict(X_test)"
      ],
      "execution_count": null,
      "outputs": []
    },
    {
      "cell_type": "code",
      "metadata": {
        "id": "L3NpQlnEZAoA",
        "colab": {
          "base_uri": "https://localhost:8080/"
        },
        "outputId": "7dc85853-782b-4e90-f0a2-31ed7f517e7b"
      },
      "source": [
        "from sklearn.metrics import confusion_matrix\n",
        "cf=confusion_matrix(y_test, y_pred)\n",
        "print (\"Confusion Matrix\")\n",
        "print(cf)\n",
        "tn, fp, fn, tp=cf.ravel()\n",
        "print (\"TP: \", tp,\", FP: \", fp,\", TN: \", tn,\", FN:\", fn)"
      ],
      "execution_count": null,
      "outputs": [
        {
          "output_type": "stream",
          "text": [
            "Confusion Matrix\n",
            "[[167  32]\n",
            " [ 82 129]]\n",
            "TP:  129 , FP:  32 , TN:  167 , FN: 82\n"
          ],
          "name": "stdout"
        }
      ]
    },
    {
      "cell_type": "code",
      "metadata": {
        "id": "lJaKaRe_ZA6w",
        "colab": {
          "base_uri": "https://localhost:8080/"
        },
        "outputId": "8f1af2f0-f909-4bfa-c02a-3351e0d07ed5"
      },
      "source": [
        "#print precision, recall, and accuracy from the perspective of each of the class (0 and 1 for German dataset)\n",
        "from sklearn.metrics import classification_report\n",
        "from sklearn import metrics\n",
        "\n",
        "print(classification_report(y_test, y_pred))"
      ],
      "execution_count": null,
      "outputs": [
        {
          "output_type": "stream",
          "text": [
            "              precision    recall  f1-score   support\n",
            "\n",
            "           0       0.67      0.84      0.75       199\n",
            "           1       0.80      0.61      0.69       211\n",
            "\n",
            "    accuracy                           0.72       410\n",
            "   macro avg       0.74      0.73      0.72       410\n",
            "weighted avg       0.74      0.72      0.72       410\n",
            "\n"
          ],
          "name": "stdout"
        }
      ]
    },
    {
      "cell_type": "markdown",
      "metadata": {
        "id": "C-yq9T8rQGq_"
      },
      "source": [
        "**Decision Tree 2:**\n",
        "Lets eliminate some attributes. This will be a subjective decision\n"
      ]
    },
    {
      "cell_type": "markdown",
      "metadata": {
        "id": "uxYK5pMbQvU9"
      },
      "source": [
        "Eliminate: Telephone, Sex & Marital Status, Duration in Current Address\n"
      ]
    },
    {
      "cell_type": "code",
      "metadata": {
        "colab": {
          "base_uri": "https://localhost:8080/",
          "height": 244
        },
        "id": "0ytRwSQdFVO8",
        "outputId": "2a8da694-1079-4ea3-bdbf-0508b89ff8db"
      },
      "source": [
        "df_upsampled = df_upsampled.drop('Telephone',1)\n",
        "df_upsampled = df_upsampled.drop('Sex & Marital Status',1)\n",
        "df_upsampled = df_upsampled.drop('Duration in Current address',1)\n",
        "df_upsampled = df_upsampled.drop('Purpose',1)\n",
        "df_upsampled.head(5)"
      ],
      "execution_count": null,
      "outputs": [
        {
          "output_type": "execute_result",
          "data": {
            "text/html": [
              "<div>\n",
              "<style scoped>\n",
              "    .dataframe tbody tr th:only-of-type {\n",
              "        vertical-align: middle;\n",
              "    }\n",
              "\n",
              "    .dataframe tbody tr th {\n",
              "        vertical-align: top;\n",
              "    }\n",
              "\n",
              "    .dataframe thead th {\n",
              "        text-align: right;\n",
              "    }\n",
              "</style>\n",
              "<table border=\"1\" class=\"dataframe\">\n",
              "  <thead>\n",
              "    <tr style=\"text-align: right;\">\n",
              "      <th></th>\n",
              "      <th>Creditability</th>\n",
              "      <th>Account Balance</th>\n",
              "      <th>Duration of Credit (month)</th>\n",
              "      <th>Payment Status of Previous Credit</th>\n",
              "      <th>Credit Amount</th>\n",
              "      <th>Value Savings/Stocks</th>\n",
              "      <th>Length of current employment</th>\n",
              "      <th>Instalment per cent</th>\n",
              "      <th>Guarantors</th>\n",
              "      <th>Most valuable available asset</th>\n",
              "      <th>Age (years)</th>\n",
              "      <th>Concurrent Credits</th>\n",
              "      <th>Type of apartment</th>\n",
              "      <th>No of Credits at this Bank</th>\n",
              "      <th>Occupation</th>\n",
              "      <th>No of dependents</th>\n",
              "      <th>Foreign Worker</th>\n",
              "    </tr>\n",
              "  </thead>\n",
              "  <tbody>\n",
              "    <tr>\n",
              "      <th>0</th>\n",
              "      <td>1</td>\n",
              "      <td>1</td>\n",
              "      <td>18</td>\n",
              "      <td>4</td>\n",
              "      <td>1049</td>\n",
              "      <td>1</td>\n",
              "      <td>2</td>\n",
              "      <td>4</td>\n",
              "      <td>1</td>\n",
              "      <td>2</td>\n",
              "      <td>21</td>\n",
              "      <td>3</td>\n",
              "      <td>1</td>\n",
              "      <td>1</td>\n",
              "      <td>3</td>\n",
              "      <td>1</td>\n",
              "      <td>1</td>\n",
              "    </tr>\n",
              "    <tr>\n",
              "      <th>1</th>\n",
              "      <td>1</td>\n",
              "      <td>1</td>\n",
              "      <td>9</td>\n",
              "      <td>4</td>\n",
              "      <td>2799</td>\n",
              "      <td>1</td>\n",
              "      <td>3</td>\n",
              "      <td>2</td>\n",
              "      <td>1</td>\n",
              "      <td>1</td>\n",
              "      <td>36</td>\n",
              "      <td>3</td>\n",
              "      <td>1</td>\n",
              "      <td>2</td>\n",
              "      <td>3</td>\n",
              "      <td>2</td>\n",
              "      <td>1</td>\n",
              "    </tr>\n",
              "    <tr>\n",
              "      <th>2</th>\n",
              "      <td>1</td>\n",
              "      <td>2</td>\n",
              "      <td>12</td>\n",
              "      <td>2</td>\n",
              "      <td>841</td>\n",
              "      <td>2</td>\n",
              "      <td>4</td>\n",
              "      <td>2</td>\n",
              "      <td>1</td>\n",
              "      <td>1</td>\n",
              "      <td>23</td>\n",
              "      <td>3</td>\n",
              "      <td>1</td>\n",
              "      <td>1</td>\n",
              "      <td>2</td>\n",
              "      <td>1</td>\n",
              "      <td>1</td>\n",
              "    </tr>\n",
              "    <tr>\n",
              "      <th>3</th>\n",
              "      <td>1</td>\n",
              "      <td>1</td>\n",
              "      <td>12</td>\n",
              "      <td>4</td>\n",
              "      <td>2122</td>\n",
              "      <td>1</td>\n",
              "      <td>3</td>\n",
              "      <td>3</td>\n",
              "      <td>1</td>\n",
              "      <td>1</td>\n",
              "      <td>39</td>\n",
              "      <td>3</td>\n",
              "      <td>1</td>\n",
              "      <td>2</td>\n",
              "      <td>2</td>\n",
              "      <td>2</td>\n",
              "      <td>2</td>\n",
              "    </tr>\n",
              "    <tr>\n",
              "      <th>4</th>\n",
              "      <td>1</td>\n",
              "      <td>1</td>\n",
              "      <td>12</td>\n",
              "      <td>4</td>\n",
              "      <td>2171</td>\n",
              "      <td>1</td>\n",
              "      <td>3</td>\n",
              "      <td>4</td>\n",
              "      <td>1</td>\n",
              "      <td>2</td>\n",
              "      <td>38</td>\n",
              "      <td>1</td>\n",
              "      <td>2</td>\n",
              "      <td>2</td>\n",
              "      <td>2</td>\n",
              "      <td>1</td>\n",
              "      <td>2</td>\n",
              "    </tr>\n",
              "  </tbody>\n",
              "</table>\n",
              "</div>"
            ],
            "text/plain": [
              "  Creditability Account Balance  ...  No of dependents Foreign Worker\n",
              "0             1               1  ...                 1              1\n",
              "1             1               1  ...                 2              1\n",
              "2             1               2  ...                 1              1\n",
              "3             1               1  ...                 2              2\n",
              "4             1               1  ...                 1              2\n",
              "\n",
              "[5 rows x 17 columns]"
            ]
          },
          "metadata": {
            "tags": []
          },
          "execution_count": 104
        }
      ]
    },
    {
      "cell_type": "code",
      "metadata": {
        "id": "DZIn_tsTQV8y"
      },
      "source": [
        "# First split the data into train and test set\n",
        "from sklearn.model_selection import train_test_split\n",
        "\n",
        "# Split dataset into training set and test set\n",
        "# Our class column is Creditability here and everything else will be used as features \n",
        "feature_names=df_upsampled.columns[df_upsampled.columns != 'Creditability']\n",
        "# 70% training and 30% test\n",
        "X_train, X_test, y_train, y_test = train_test_split(df_upsampled.loc[:, feature_names], df_upsampled['Creditability'], test_size=0.3,random_state=1) "
      ],
      "execution_count": null,
      "outputs": []
    },
    {
      "cell_type": "code",
      "metadata": {
        "id": "tvGCqTU-Q3eK",
        "colab": {
          "base_uri": "https://localhost:8080/"
        },
        "outputId": "1c81306a-6ac2-4a78-d23c-d2daf37f05da"
      },
      "source": [
        "from sklearn import tree\n",
        "clf = tree.DecisionTreeClassifier(criterion=\"gini\",max_depth=3, ccp_alpha=0)\n",
        "clf = clf.fit(X_train, y_train)\n",
        "print(\"Successfuly trained the decision tree...\")"
      ],
      "execution_count": null,
      "outputs": [
        {
          "output_type": "stream",
          "text": [
            "Successfuly trained the decision tree...\n"
          ],
          "name": "stdout"
        }
      ]
    },
    {
      "cell_type": "code",
      "metadata": {
        "id": "XHN0kszoQ4IT",
        "colab": {
          "base_uri": "https://localhost:8080/",
          "height": 598
        },
        "outputId": "9975ac66-a89b-4353-cf01-2ae3e8f98352"
      },
      "source": [
        "import graphviz\n",
        "dot_data = tree.export_graphviz(clf, out_file=None, \n",
        "                                feature_names=feature_names,  \n",
        "                                class_names=[\"0\",\"1\"],\n",
        "                                filled=True)\n",
        "# Plot tree\n",
        "graph = graphviz.Source(dot_data, format=\"png\") \n",
        "graph"
      ],
      "execution_count": null,
      "outputs": [
        {
          "output_type": "execute_result",
          "data": {
            "text/plain": [
              "<graphviz.files.Source at 0x7f9a7151d860>"
            ],
            "image/svg+xml": "<?xml version=\"1.0\" encoding=\"UTF-8\" standalone=\"no\"?>\n<!DOCTYPE svg PUBLIC \"-//W3C//DTD SVG 1.1//EN\"\n \"http://www.w3.org/Graphics/SVG/1.1/DTD/svg11.dtd\">\n<!-- Generated by graphviz version 2.40.1 (20161225.0304)\n -->\n<!-- Title: Tree Pages: 1 -->\n<svg width=\"1006pt\" height=\"433pt\"\n viewBox=\"0.00 0.00 1006.00 433.00\" xmlns=\"http://www.w3.org/2000/svg\" xmlns:xlink=\"http://www.w3.org/1999/xlink\">\n<g id=\"graph0\" class=\"graph\" transform=\"scale(1 1) rotate(0) translate(4 429)\">\n<title>Tree</title>\n<polygon fill=\"#ffffff\" stroke=\"transparent\" points=\"-4,4 -4,-429 1002,-429 1002,4 -4,4\"/>\n<!-- 0 -->\n<g id=\"node1\" class=\"node\">\n<title>0</title>\n<polygon fill=\"#fefcfa\" stroke=\"#000000\" points=\"591.5,-425 434.5,-425 434.5,-342 591.5,-342 591.5,-425\"/>\n<text text-anchor=\"middle\" x=\"513\" y=\"-409.8\" font-family=\"Times,serif\" font-size=\"14.00\" fill=\"#000000\">Account Balance &lt;= 2.5</text>\n<text text-anchor=\"middle\" x=\"513\" y=\"-394.8\" font-family=\"Times,serif\" font-size=\"14.00\" fill=\"#000000\">gini = 0.5</text>\n<text text-anchor=\"middle\" x=\"513\" y=\"-379.8\" font-family=\"Times,serif\" font-size=\"14.00\" fill=\"#000000\">samples = 956</text>\n<text text-anchor=\"middle\" x=\"513\" y=\"-364.8\" font-family=\"Times,serif\" font-size=\"14.00\" fill=\"#000000\">value = [484, 472]</text>\n<text text-anchor=\"middle\" x=\"513\" y=\"-349.8\" font-family=\"Times,serif\" font-size=\"14.00\" fill=\"#000000\">class = 0</text>\n</g>\n<!-- 1 -->\n<g id=\"node2\" class=\"node\">\n<title>1</title>\n<polygon fill=\"#f4caab\" stroke=\"#000000\" points=\"513,-306 289,-306 289,-223 513,-223 513,-306\"/>\n<text text-anchor=\"middle\" x=\"401\" y=\"-290.8\" font-family=\"Times,serif\" font-size=\"14.00\" fill=\"#000000\">Most valuable available asset &lt;= 1.5</text>\n<text text-anchor=\"middle\" x=\"401\" y=\"-275.8\" font-family=\"Times,serif\" font-size=\"14.00\" fill=\"#000000\">gini = 0.464</text>\n<text text-anchor=\"middle\" x=\"401\" y=\"-260.8\" font-family=\"Times,serif\" font-size=\"14.00\" fill=\"#000000\">samples = 588</text>\n<text text-anchor=\"middle\" x=\"401\" y=\"-245.8\" font-family=\"Times,serif\" font-size=\"14.00\" fill=\"#000000\">value = [373, 215]</text>\n<text text-anchor=\"middle\" x=\"401\" y=\"-230.8\" font-family=\"Times,serif\" font-size=\"14.00\" fill=\"#000000\">class = 0</text>\n</g>\n<!-- 0&#45;&gt;1 -->\n<g id=\"edge1\" class=\"edge\">\n<title>0&#45;&gt;1</title>\n<path fill=\"none\" stroke=\"#000000\" d=\"M473.8278,-341.8796C465.2665,-332.7832 456.1268,-323.0722 447.3168,-313.7116\"/>\n<polygon fill=\"#000000\" stroke=\"#000000\" points=\"449.7417,-311.1813 440.3394,-306.2981 444.6443,-315.9789 449.7417,-311.1813\"/>\n<text text-anchor=\"middle\" x=\"439.5821\" y=\"-327.5866\" font-family=\"Times,serif\" font-size=\"14.00\" fill=\"#000000\">True</text>\n</g>\n<!-- 8 -->\n<g id=\"node9\" class=\"node\">\n<title>8</title>\n<polygon fill=\"#8fc7f0\" stroke=\"#000000\" points=\"702,-306 534,-306 534,-223 702,-223 702,-306\"/>\n<text text-anchor=\"middle\" x=\"618\" y=\"-290.8\" font-family=\"Times,serif\" font-size=\"14.00\" fill=\"#000000\">Credit Amount &lt;= 4103.0</text>\n<text text-anchor=\"middle\" x=\"618\" y=\"-275.8\" font-family=\"Times,serif\" font-size=\"14.00\" fill=\"#000000\">gini = 0.421</text>\n<text text-anchor=\"middle\" x=\"618\" y=\"-260.8\" font-family=\"Times,serif\" font-size=\"14.00\" fill=\"#000000\">samples = 368</text>\n<text text-anchor=\"middle\" x=\"618\" y=\"-245.8\" font-family=\"Times,serif\" font-size=\"14.00\" fill=\"#000000\">value = [111, 257]</text>\n<text text-anchor=\"middle\" x=\"618\" y=\"-230.8\" font-family=\"Times,serif\" font-size=\"14.00\" fill=\"#000000\">class = 1</text>\n</g>\n<!-- 0&#45;&gt;8 -->\n<g id=\"edge8\" class=\"edge\">\n<title>0&#45;&gt;8</title>\n<path fill=\"none\" stroke=\"#000000\" d=\"M549.7239,-341.8796C557.6707,-332.8733 566.149,-323.2644 574.3326,-313.9897\"/>\n<polygon fill=\"#000000\" stroke=\"#000000\" points=\"577.1275,-316.1122 581.1193,-306.2981 571.8787,-311.4808 577.1275,-316.1122\"/>\n<text text-anchor=\"middle\" x=\"582.6788\" y=\"-327.5494\" font-family=\"Times,serif\" font-size=\"14.00\" fill=\"#000000\">False</text>\n</g>\n<!-- 2 -->\n<g id=\"node3\" class=\"node\">\n<title>2</title>\n<polygon fill=\"#d8ecfa\" stroke=\"#000000\" points=\"286,-187 64,-187 64,-104 286,-104 286,-187\"/>\n<text text-anchor=\"middle\" x=\"175\" y=\"-171.8\" font-family=\"Times,serif\" font-size=\"14.00\" fill=\"#000000\">Duration of Credit (month) &lt;= 11.5</text>\n<text text-anchor=\"middle\" x=\"175\" y=\"-156.8\" font-family=\"Times,serif\" font-size=\"14.00\" fill=\"#000000\">gini = 0.494</text>\n<text text-anchor=\"middle\" x=\"175\" y=\"-141.8\" font-family=\"Times,serif\" font-size=\"14.00\" fill=\"#000000\">samples = 146</text>\n<text text-anchor=\"middle\" x=\"175\" y=\"-126.8\" font-family=\"Times,serif\" font-size=\"14.00\" fill=\"#000000\">value = [65, 81]</text>\n<text text-anchor=\"middle\" x=\"175\" y=\"-111.8\" font-family=\"Times,serif\" font-size=\"14.00\" fill=\"#000000\">class = 1</text>\n</g>\n<!-- 1&#45;&gt;2 -->\n<g id=\"edge2\" class=\"edge\">\n<title>1&#45;&gt;2</title>\n<path fill=\"none\" stroke=\"#000000\" d=\"M321.9562,-222.8796C302.8599,-212.8244 282.3373,-202.0183 262.8638,-191.7645\"/>\n<polygon fill=\"#000000\" stroke=\"#000000\" points=\"264.4782,-188.6591 253.9992,-187.0969 261.2169,-194.853 264.4782,-188.6591\"/>\n</g>\n<!-- 5 -->\n<g id=\"node6\" class=\"node\">\n<title>5</title>\n<polygon fill=\"#f0b88f\" stroke=\"#000000\" points=\"492.5,-187 309.5,-187 309.5,-104 492.5,-104 492.5,-187\"/>\n<text text-anchor=\"middle\" x=\"401\" y=\"-171.8\" font-family=\"Times,serif\" font-size=\"14.00\" fill=\"#000000\">Value Savings/Stocks &lt;= 2.5</text>\n<text text-anchor=\"middle\" x=\"401\" y=\"-156.8\" font-family=\"Times,serif\" font-size=\"14.00\" fill=\"#000000\">gini = 0.423</text>\n<text text-anchor=\"middle\" x=\"401\" y=\"-141.8\" font-family=\"Times,serif\" font-size=\"14.00\" fill=\"#000000\">samples = 442</text>\n<text text-anchor=\"middle\" x=\"401\" y=\"-126.8\" font-family=\"Times,serif\" font-size=\"14.00\" fill=\"#000000\">value = [308, 134]</text>\n<text text-anchor=\"middle\" x=\"401\" y=\"-111.8\" font-family=\"Times,serif\" font-size=\"14.00\" fill=\"#000000\">class = 0</text>\n</g>\n<!-- 1&#45;&gt;5 -->\n<g id=\"edge5\" class=\"edge\">\n<title>1&#45;&gt;5</title>\n<path fill=\"none\" stroke=\"#000000\" d=\"M401,-222.8796C401,-214.6838 401,-205.9891 401,-197.5013\"/>\n<polygon fill=\"#000000\" stroke=\"#000000\" points=\"404.5001,-197.298 401,-187.2981 397.5001,-197.2981 404.5001,-197.298\"/>\n</g>\n<!-- 3 -->\n<g id=\"node4\" class=\"node\">\n<title>3</title>\n<polygon fill=\"#47a4e7\" stroke=\"#000000\" points=\"102,-68 0,-68 0,0 102,0 102,-68\"/>\n<text text-anchor=\"middle\" x=\"51\" y=\"-52.8\" font-family=\"Times,serif\" font-size=\"14.00\" fill=\"#000000\">gini = 0.121</text>\n<text text-anchor=\"middle\" x=\"51\" y=\"-37.8\" font-family=\"Times,serif\" font-size=\"14.00\" fill=\"#000000\">samples = 31</text>\n<text text-anchor=\"middle\" x=\"51\" y=\"-22.8\" font-family=\"Times,serif\" font-size=\"14.00\" fill=\"#000000\">value = [2, 29]</text>\n<text text-anchor=\"middle\" x=\"51\" y=\"-7.8\" font-family=\"Times,serif\" font-size=\"14.00\" fill=\"#000000\">class = 1</text>\n</g>\n<!-- 2&#45;&gt;3 -->\n<g id=\"edge3\" class=\"edge\">\n<title>2&#45;&gt;3</title>\n<path fill=\"none\" stroke=\"#000000\" d=\"M128.827,-103.9815C118.2993,-94.5151 107.1192,-84.462 96.6151,-75.0168\"/>\n<polygon fill=\"#000000\" stroke=\"#000000\" points=\"98.8811,-72.3475 89.1049,-68.2637 94.2006,-77.5526 98.8811,-72.3475\"/>\n</g>\n<!-- 4 -->\n<g id=\"node5\" class=\"node\">\n<title>4</title>\n<polygon fill=\"#fae9dc\" stroke=\"#000000\" points=\"230,-68 120,-68 120,0 230,0 230,-68\"/>\n<text text-anchor=\"middle\" x=\"175\" y=\"-52.8\" font-family=\"Times,serif\" font-size=\"14.00\" fill=\"#000000\">gini = 0.495</text>\n<text text-anchor=\"middle\" x=\"175\" y=\"-37.8\" font-family=\"Times,serif\" font-size=\"14.00\" fill=\"#000000\">samples = 115</text>\n<text text-anchor=\"middle\" x=\"175\" y=\"-22.8\" font-family=\"Times,serif\" font-size=\"14.00\" fill=\"#000000\">value = [63, 52]</text>\n<text text-anchor=\"middle\" x=\"175\" y=\"-7.8\" font-family=\"Times,serif\" font-size=\"14.00\" fill=\"#000000\">class = 0</text>\n</g>\n<!-- 2&#45;&gt;4 -->\n<g id=\"edge4\" class=\"edge\">\n<title>2&#45;&gt;4</title>\n<path fill=\"none\" stroke=\"#000000\" d=\"M175,-103.9815C175,-95.618 175,-86.7965 175,-78.3409\"/>\n<polygon fill=\"#000000\" stroke=\"#000000\" points=\"178.5001,-78.2636 175,-68.2637 171.5001,-78.2637 178.5001,-78.2636\"/>\n</g>\n<!-- 6 -->\n<g id=\"node7\" class=\"node\">\n<title>6</title>\n<polygon fill=\"#eeaf81\" stroke=\"#000000\" points=\"365.5,-68 248.5,-68 248.5,0 365.5,0 365.5,-68\"/>\n<text text-anchor=\"middle\" x=\"307\" y=\"-52.8\" font-family=\"Times,serif\" font-size=\"14.00\" fill=\"#000000\">gini = 0.391</text>\n<text text-anchor=\"middle\" x=\"307\" y=\"-37.8\" font-family=\"Times,serif\" font-size=\"14.00\" fill=\"#000000\">samples = 367</text>\n<text text-anchor=\"middle\" x=\"307\" y=\"-22.8\" font-family=\"Times,serif\" font-size=\"14.00\" fill=\"#000000\">value = [269, 98]</text>\n<text text-anchor=\"middle\" x=\"307\" y=\"-7.8\" font-family=\"Times,serif\" font-size=\"14.00\" fill=\"#000000\">class = 0</text>\n</g>\n<!-- 5&#45;&gt;6 -->\n<g id=\"edge6\" class=\"edge\">\n<title>5&#45;&gt;6</title>\n<path fill=\"none\" stroke=\"#000000\" d=\"M365.9979,-103.9815C358.3272,-94.8828 350.1995,-85.242 342.5091,-76.1199\"/>\n<polygon fill=\"#000000\" stroke=\"#000000\" points=\"345.0075,-73.6533 335.886,-68.2637 339.6556,-78.1652 345.0075,-73.6533\"/>\n</g>\n<!-- 7 -->\n<g id=\"node8\" class=\"node\">\n<title>7</title>\n<polygon fill=\"#fdf5f0\" stroke=\"#000000\" points=\"494,-68 384,-68 384,0 494,0 494,-68\"/>\n<text text-anchor=\"middle\" x=\"439\" y=\"-52.8\" font-family=\"Times,serif\" font-size=\"14.00\" fill=\"#000000\">gini = 0.499</text>\n<text text-anchor=\"middle\" x=\"439\" y=\"-37.8\" font-family=\"Times,serif\" font-size=\"14.00\" fill=\"#000000\">samples = 75</text>\n<text text-anchor=\"middle\" x=\"439\" y=\"-22.8\" font-family=\"Times,serif\" font-size=\"14.00\" fill=\"#000000\">value = [39, 36]</text>\n<text text-anchor=\"middle\" x=\"439\" y=\"-7.8\" font-family=\"Times,serif\" font-size=\"14.00\" fill=\"#000000\">class = 0</text>\n</g>\n<!-- 5&#45;&gt;7 -->\n<g id=\"edge7\" class=\"edge\">\n<title>5&#45;&gt;7</title>\n<path fill=\"none\" stroke=\"#000000\" d=\"M415.1498,-103.9815C418.0628,-95.4342 421.1388,-86.4086 424.0781,-77.7839\"/>\n<polygon fill=\"#000000\" stroke=\"#000000\" points=\"427.4096,-78.8582 427.3227,-68.2637 420.7839,-76.6 427.4096,-78.8582\"/>\n</g>\n<!-- 9 -->\n<g id=\"node10\" class=\"node\">\n<title>9</title>\n<polygon fill=\"#79bced\" stroke=\"#000000\" points=\"684.5,-187 551.5,-187 551.5,-104 684.5,-104 684.5,-187\"/>\n<text text-anchor=\"middle\" x=\"618\" y=\"-171.8\" font-family=\"Times,serif\" font-size=\"14.00\" fill=\"#000000\">Age (years) &lt;= 22.5</text>\n<text text-anchor=\"middle\" x=\"618\" y=\"-156.8\" font-family=\"Times,serif\" font-size=\"14.00\" fill=\"#000000\">gini = 0.368</text>\n<text text-anchor=\"middle\" x=\"618\" y=\"-141.8\" font-family=\"Times,serif\" font-size=\"14.00\" fill=\"#000000\">samples = 280</text>\n<text text-anchor=\"middle\" x=\"618\" y=\"-126.8\" font-family=\"Times,serif\" font-size=\"14.00\" fill=\"#000000\">value = [68, 212]</text>\n<text text-anchor=\"middle\" x=\"618\" y=\"-111.8\" font-family=\"Times,serif\" font-size=\"14.00\" fill=\"#000000\">class = 1</text>\n</g>\n<!-- 8&#45;&gt;9 -->\n<g id=\"edge9\" class=\"edge\">\n<title>8&#45;&gt;9</title>\n<path fill=\"none\" stroke=\"#000000\" d=\"M618,-222.8796C618,-214.6838 618,-205.9891 618,-197.5013\"/>\n<polygon fill=\"#000000\" stroke=\"#000000\" points=\"621.5001,-197.298 618,-187.2981 614.5001,-197.2981 621.5001,-197.298\"/>\n</g>\n<!-- 12 -->\n<g id=\"node13\" class=\"node\">\n<title>12</title>\n<polygon fill=\"#f6fbfe\" stroke=\"#000000\" points=\"941,-187 705,-187 705,-104 941,-104 941,-187\"/>\n<text text-anchor=\"middle\" x=\"823\" y=\"-171.8\" font-family=\"Times,serif\" font-size=\"14.00\" fill=\"#000000\">Length of current employment &lt;= 3.5</text>\n<text text-anchor=\"middle\" x=\"823\" y=\"-156.8\" font-family=\"Times,serif\" font-size=\"14.00\" fill=\"#000000\">gini = 0.5</text>\n<text text-anchor=\"middle\" x=\"823\" y=\"-141.8\" font-family=\"Times,serif\" font-size=\"14.00\" fill=\"#000000\">samples = 88</text>\n<text text-anchor=\"middle\" x=\"823\" y=\"-126.8\" font-family=\"Times,serif\" font-size=\"14.00\" fill=\"#000000\">value = [43, 45]</text>\n<text text-anchor=\"middle\" x=\"823\" y=\"-111.8\" font-family=\"Times,serif\" font-size=\"14.00\" fill=\"#000000\">class = 1</text>\n</g>\n<!-- 8&#45;&gt;12 -->\n<g id=\"edge12\" class=\"edge\">\n<title>8&#45;&gt;12</title>\n<path fill=\"none\" stroke=\"#000000\" d=\"M689.6991,-222.8796C706.7088,-213.0056 724.9661,-202.4075 742.3448,-192.3193\"/>\n<polygon fill=\"#000000\" stroke=\"#000000\" points=\"744.4501,-195.1443 751.3414,-187.0969 740.9358,-189.0903 744.4501,-195.1443\"/>\n</g>\n<!-- 10 -->\n<g id=\"node11\" class=\"node\">\n<title>10</title>\n<polygon fill=\"#efb388\" stroke=\"#000000\" points=\"614,-68 512,-68 512,0 614,0 614,-68\"/>\n<text text-anchor=\"middle\" x=\"563\" y=\"-52.8\" font-family=\"Times,serif\" font-size=\"14.00\" fill=\"#000000\">gini = 0.408</text>\n<text text-anchor=\"middle\" x=\"563\" y=\"-37.8\" font-family=\"Times,serif\" font-size=\"14.00\" fill=\"#000000\">samples = 21</text>\n<text text-anchor=\"middle\" x=\"563\" y=\"-22.8\" font-family=\"Times,serif\" font-size=\"14.00\" fill=\"#000000\">value = [15, 6]</text>\n<text text-anchor=\"middle\" x=\"563\" y=\"-7.8\" font-family=\"Times,serif\" font-size=\"14.00\" fill=\"#000000\">class = 0</text>\n</g>\n<!-- 9&#45;&gt;10 -->\n<g id=\"edge10\" class=\"edge\">\n<title>9&#45;&gt;10</title>\n<path fill=\"none\" stroke=\"#000000\" d=\"M597.52,-103.9815C593.2585,-95.3423 588.756,-86.2144 584.4603,-77.5059\"/>\n<polygon fill=\"#000000\" stroke=\"#000000\" points=\"587.4641,-75.6836 579.9014,-68.2637 581.1863,-78.7803 587.4641,-75.6836\"/>\n</g>\n<!-- 11 -->\n<g id=\"node12\" class=\"node\">\n<title>11</title>\n<polygon fill=\"#6cb6ec\" stroke=\"#000000\" points=\"749.5,-68 632.5,-68 632.5,0 749.5,0 749.5,-68\"/>\n<text text-anchor=\"middle\" x=\"691\" y=\"-52.8\" font-family=\"Times,serif\" font-size=\"14.00\" fill=\"#000000\">gini = 0.326</text>\n<text text-anchor=\"middle\" x=\"691\" y=\"-37.8\" font-family=\"Times,serif\" font-size=\"14.00\" fill=\"#000000\">samples = 259</text>\n<text text-anchor=\"middle\" x=\"691\" y=\"-22.8\" font-family=\"Times,serif\" font-size=\"14.00\" fill=\"#000000\">value = [53, 206]</text>\n<text text-anchor=\"middle\" x=\"691\" y=\"-7.8\" font-family=\"Times,serif\" font-size=\"14.00\" fill=\"#000000\">class = 1</text>\n</g>\n<!-- 9&#45;&gt;11 -->\n<g id=\"edge11\" class=\"edge\">\n<title>9&#45;&gt;11</title>\n<path fill=\"none\" stroke=\"#000000\" d=\"M645.1825,-103.9815C651.0192,-95.0666 657.1966,-85.6313 663.0614,-76.6734\"/>\n<polygon fill=\"#000000\" stroke=\"#000000\" points=\"666.0179,-78.5472 668.5673,-68.2637 660.1614,-74.7129 666.0179,-78.5472\"/>\n</g>\n<!-- 13 -->\n<g id=\"node14\" class=\"node\">\n<title>13</title>\n<polygon fill=\"#f0b58b\" stroke=\"#000000\" points=\"878,-68 768,-68 768,0 878,0 878,-68\"/>\n<text text-anchor=\"middle\" x=\"823\" y=\"-52.8\" font-family=\"Times,serif\" font-size=\"14.00\" fill=\"#000000\">gini = 0.414</text>\n<text text-anchor=\"middle\" x=\"823\" y=\"-37.8\" font-family=\"Times,serif\" font-size=\"14.00\" fill=\"#000000\">samples = 58</text>\n<text text-anchor=\"middle\" x=\"823\" y=\"-22.8\" font-family=\"Times,serif\" font-size=\"14.00\" fill=\"#000000\">value = [41, 17]</text>\n<text text-anchor=\"middle\" x=\"823\" y=\"-7.8\" font-family=\"Times,serif\" font-size=\"14.00\" fill=\"#000000\">class = 0</text>\n</g>\n<!-- 12&#45;&gt;13 -->\n<g id=\"edge13\" class=\"edge\">\n<title>12&#45;&gt;13</title>\n<path fill=\"none\" stroke=\"#000000\" d=\"M823,-103.9815C823,-95.618 823,-86.7965 823,-78.3409\"/>\n<polygon fill=\"#000000\" stroke=\"#000000\" points=\"826.5001,-78.2636 823,-68.2637 819.5001,-78.2637 826.5001,-78.2636\"/>\n</g>\n<!-- 14 -->\n<g id=\"node15\" class=\"node\">\n<title>14</title>\n<polygon fill=\"#47a4e7\" stroke=\"#000000\" points=\"998,-68 896,-68 896,0 998,0 998,-68\"/>\n<text text-anchor=\"middle\" x=\"947\" y=\"-52.8\" font-family=\"Times,serif\" font-size=\"14.00\" fill=\"#000000\">gini = 0.124</text>\n<text text-anchor=\"middle\" x=\"947\" y=\"-37.8\" font-family=\"Times,serif\" font-size=\"14.00\" fill=\"#000000\">samples = 30</text>\n<text text-anchor=\"middle\" x=\"947\" y=\"-22.8\" font-family=\"Times,serif\" font-size=\"14.00\" fill=\"#000000\">value = [2, 28]</text>\n<text text-anchor=\"middle\" x=\"947\" y=\"-7.8\" font-family=\"Times,serif\" font-size=\"14.00\" fill=\"#000000\">class = 1</text>\n</g>\n<!-- 12&#45;&gt;14 -->\n<g id=\"edge14\" class=\"edge\">\n<title>12&#45;&gt;14</title>\n<path fill=\"none\" stroke=\"#000000\" d=\"M869.173,-103.9815C879.7007,-94.5151 890.8808,-84.462 901.3849,-75.0168\"/>\n<polygon fill=\"#000000\" stroke=\"#000000\" points=\"903.7994,-77.5526 908.8951,-68.2637 899.1189,-72.3475 903.7994,-77.5526\"/>\n</g>\n</g>\n</svg>\n"
          },
          "metadata": {
            "tags": []
          },
          "execution_count": 108
        }
      ]
    },
    {
      "cell_type": "code",
      "metadata": {
        "id": "GnVsGBBFRA8w",
        "colab": {
          "base_uri": "https://localhost:8080/"
        },
        "outputId": "4331e54a-97ef-4080-c84b-6cab0ec57a24"
      },
      "source": [
        "# Let's make the prdictions on the test set  that we set aside earlier using the trained tree\n",
        "y_pred = clf.predict(X_test)\n",
        "\n",
        "from sklearn.metrics import confusion_matrix\n",
        "cf=confusion_matrix(y_test, y_pred)\n",
        "print (\"Confusion Matrix\")\n",
        "print(cf)\n",
        "tn, fp, fn, tp=cf.ravel()\n",
        "print (\"TP: \", tp,\", FP: \", fp,\", TN: \", tn,\", FN:\", fn)\n",
        "\n",
        "#print precision, recall, and accuracy from the perspective of each of the class (0 and 1 for German dataset)\n",
        "from sklearn.metrics import classification_report\n",
        "from sklearn import metrics\n",
        "\n",
        "print(classification_report(y_test, y_pred))"
      ],
      "execution_count": null,
      "outputs": [
        {
          "output_type": "stream",
          "text": [
            "Confusion Matrix\n",
            "[[168  31]\n",
            " [ 88 123]]\n",
            "TP:  123 , FP:  31 , TN:  168 , FN: 88\n",
            "              precision    recall  f1-score   support\n",
            "\n",
            "           0       0.66      0.84      0.74       199\n",
            "           1       0.80      0.58      0.67       211\n",
            "\n",
            "    accuracy                           0.71       410\n",
            "   macro avg       0.73      0.71      0.71       410\n",
            "weighted avg       0.73      0.71      0.71       410\n",
            "\n"
          ],
          "name": "stdout"
        }
      ]
    },
    {
      "cell_type": "markdown",
      "metadata": {
        "id": "gUI9zspAngr2"
      },
      "source": [
        "**Naive Bayes:** Filtered Dataset"
      ]
    },
    {
      "cell_type": "code",
      "metadata": {
        "id": "8cxzP01rQb8Z"
      },
      "source": [
        "from sklearn.naive_bayes import MultinomialNB\n",
        "\n",
        "#Create a MultiNomial NB Classifier\n",
        "nb = MultinomialNB()\n",
        "\n",
        "#Train the model using the training sets\n",
        "nb.fit(X_train, y_train)\n",
        "\n",
        "#Predict the response for test dataset\n",
        "y_pred = nb.predict(X_test)"
      ],
      "execution_count": null,
      "outputs": []
    },
    {
      "cell_type": "code",
      "metadata": {
        "colab": {
          "base_uri": "https://localhost:8080/"
        },
        "id": "OqnHwTRsEp_e",
        "outputId": "dc0d89d6-e343-44e5-dd43-c94860f9b7d2"
      },
      "source": [
        "print (\"Total Columns (including class)\",len(df_upsampled.columns))"
      ],
      "execution_count": null,
      "outputs": [
        {
          "output_type": "stream",
          "text": [
            "Total Columns (including class) 17\n"
          ],
          "name": "stdout"
        }
      ]
    },
    {
      "cell_type": "code",
      "metadata": {
        "colab": {
          "base_uri": "https://localhost:8080/"
        },
        "id": "keNl77GPEvw5",
        "outputId": "2fb44ec1-573e-4029-eb02-c6932a889e0c"
      },
      "source": [
        "print(\"Number of features used \",nb.n_features_)\n",
        "print(\"Classes \",nb.classes_)\n",
        "print(\"Number of records for classes \",nb.class_count_)\n",
        "print(\"Log prior probability for classes \", nb.class_log_prior_)\n",
        "print(\"Log conditional probability for each feature given a class\\n\",nb.feature_log_prob_)"
      ],
      "execution_count": null,
      "outputs": [
        {
          "output_type": "stream",
          "text": [
            "Number of features used  16\n",
            "Classes  [0 1]\n",
            "Number of records for classes  [484. 472.]\n",
            "Log prior probability for classes  [-0.68067301 -0.70577893]\n",
            "Log conditional probability for each feature given a class\n",
            " [[-7.54186909 -5.07969466 -7.42270388 -0.02262458 -7.75238523 -7.10107422\n",
            "  -7.10575807 -8.10851158 -7.27966443 -4.70737514 -7.29413413 -7.58424831\n",
            "  -7.90419125 -7.14823021 -8.06207467 -8.22059789]\n",
            " [-6.98269025 -5.05004116 -7.01027821 -0.0281062  -7.20526707 -6.76667712\n",
            "  -6.93256922 -7.85679937 -7.2109489  -4.44174911 -7.01183342 -7.36906438\n",
            "  -7.64678511 -6.94123354 -7.86772844 -7.96983824]]\n"
          ],
          "name": "stdout"
        }
      ]
    },
    {
      "cell_type": "code",
      "metadata": {
        "colab": {
          "base_uri": "https://localhost:8080/"
        },
        "id": "nZq06lZ3Ew3g",
        "outputId": "c2af7f35-7a00-4562-8cc1-d8e847bb1c55"
      },
      "source": [
        "from sklearn.metrics import classification_report\n",
        "from sklearn import metrics\n",
        "\n",
        "print(classification_report(y_test, y_pred))"
      ],
      "execution_count": null,
      "outputs": [
        {
          "output_type": "stream",
          "text": [
            "              precision    recall  f1-score   support\n",
            "\n",
            "           0       0.59      0.40      0.48       199\n",
            "           1       0.57      0.73      0.64       211\n",
            "\n",
            "    accuracy                           0.57       410\n",
            "   macro avg       0.58      0.57      0.56       410\n",
            "weighted avg       0.58      0.57      0.56       410\n",
            "\n"
          ],
          "name": "stdout"
        }
      ]
    }
  ]
}